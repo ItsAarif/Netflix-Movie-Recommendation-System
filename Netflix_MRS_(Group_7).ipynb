{
  "nbformat": 4,
  "nbformat_minor": 0,
  "metadata": {
    "colab": {
      "name": "Netflix MRS (Group 7).ipynb",
      "provenance": []
    },
    "kernelspec": {
      "name": "python3",
      "display_name": "Python 3"
    }
  },
  "cells": [
    {
      "cell_type": "markdown",
      "metadata": {
        "id": "W_u10OnqJVrc"
      },
      "source": [
        "**Netflix Movie Recommendation System**\n",
        "---\n",
        "---\n",
        ">***Group No.*** 7\n",
        "\n",
        "> ***Group Members:***\n",
        "\n",
        "*   Harsh Tiwari (TE-B-68)\n",
        "*   Nimesh Tripathi (TE-B-69)\n",
        "*   Swastik Sharma (TE-B-70)\n",
        "*   Hrutuja Saswade (TE-B-71)\n",
        "*   Harsh Singh (TE-B-72)\n",
        "*   Arif Chaudhary (TE-B-73)\n",
        "\n"
      ]
    },
    {
      "cell_type": "markdown",
      "metadata": {
        "id": "eVgQXBNRRn7f"
      },
      "source": [
        "Importing Libraries"
      ]
    },
    {
      "cell_type": "code",
      "metadata": {
        "id": "tX8rLdlgU0Jg",
        "outputId": "6ceab1f5-d4f4-4664-fb85-a61e6f8e578f",
        "colab": {
          "base_uri": "https://localhost:8080/",
          "height": 305
        }
      },
      "source": [
        "pip install surprise"
      ],
      "execution_count": null,
      "outputs": [
        {
          "output_type": "stream",
          "text": [
            "Collecting surprise\n",
            "  Downloading https://files.pythonhosted.org/packages/61/de/e5cba8682201fcf9c3719a6fdda95693468ed061945493dea2dd37c5618b/surprise-0.1-py2.py3-none-any.whl\n",
            "Collecting scikit-surprise\n",
            "\u001b[?25l  Downloading https://files.pythonhosted.org/packages/97/37/5d334adaf5ddd65da99fc65f6507e0e4599d092ba048f4302fe8775619e8/scikit-surprise-1.1.1.tar.gz (11.8MB)\n",
            "\u001b[K     |████████████████████████████████| 11.8MB 3.2MB/s \n",
            "\u001b[?25hRequirement already satisfied: joblib>=0.11 in /usr/local/lib/python3.6/dist-packages (from scikit-surprise->surprise) (0.16.0)\n",
            "Requirement already satisfied: numpy>=1.11.2 in /usr/local/lib/python3.6/dist-packages (from scikit-surprise->surprise) (1.18.5)\n",
            "Requirement already satisfied: scipy>=1.0.0 in /usr/local/lib/python3.6/dist-packages (from scikit-surprise->surprise) (1.4.1)\n",
            "Requirement already satisfied: six>=1.10.0 in /usr/local/lib/python3.6/dist-packages (from scikit-surprise->surprise) (1.15.0)\n",
            "Building wheels for collected packages: scikit-surprise\n",
            "  Building wheel for scikit-surprise (setup.py) ... \u001b[?25l\u001b[?25hdone\n",
            "  Created wheel for scikit-surprise: filename=scikit_surprise-1.1.1-cp36-cp36m-linux_x86_64.whl size=1670963 sha256=ffab032e2b6af6d228848864a03120883f92679e1bac28fb62db10a82db0393d\n",
            "  Stored in directory: /root/.cache/pip/wheels/78/9c/3d/41b419c9d2aff5b6e2b4c0fc8d25c538202834058f9ed110d0\n",
            "Successfully built scikit-surprise\n",
            "Installing collected packages: scikit-surprise, surprise\n",
            "Successfully installed scikit-surprise-1.1.1 surprise-0.1\n"
          ],
          "name": "stdout"
        }
      ]
    },
    {
      "cell_type": "code",
      "metadata": {
        "id": "uLh6haHIJAOx"
      },
      "source": [
        "from datetime import datetime\n",
        "import pandas as pd\n",
        "import numpy as np\n",
        "import seaborn as sns\n",
        "sns.set_style(\"whitegrid\")\n",
        "import os\n",
        "import random\n",
        "import matplotlib\n",
        "import matplotlib.pyplot as plt\n",
        "from scipy import sparse\n",
        "from sklearn.metrics.pairwise import cosine_similarity\n",
        "from sklearn.metrics import mean_squared_error\n",
        "\n",
        "\n",
        "import xgboost as xgb\n",
        "from surprise import Reader, Dataset\n",
        "from surprise import BaselineOnly\n",
        "from surprise import KNNBaseline\n",
        "from surprise import SVD\n",
        "from surprise import SVDpp\n",
        "from surprise.model_selection import GridSearchCV"
      ],
      "execution_count": null,
      "outputs": []
    },
    {
      "cell_type": "markdown",
      "metadata": {
        "id": "IjE9m1JDxrwX"
      },
      "source": [
        "**Data Pre-Processing**"
      ]
    },
    {
      "cell_type": "code",
      "metadata": {
        "id": "A9x_r3DmIsAt",
        "outputId": "79df78a6-40fc-4be1-8fb4-41d3fd64625d",
        "colab": {
          "base_uri": "https://localhost:8080/",
          "height": 143
        }
      },
      "source": [
        "if not os.path.isfile(\"NetflixRatings.csv\"): \n",
        "    startTime = datetime.now()\n",
        "    data = open(\"NetflixRatings.csv\", mode = \"w\") \n",
        "    files = ['combined_data_2.txt', 'combined_data_4.txt']\n",
        "    for file in files:\n",
        "        print(\"Reading from file: \"+str(file)+\"...\")\n",
        "        with open(file) as f:  \n",
        "            for line in f:\n",
        "                line = line.strip() \n",
        "                if line.endswith(\":\"):\n",
        "                    movieID = line.replace(\":\", \"\") \n",
        "                else:\n",
        "                    row = []\n",
        "                    row = [x for x in line.split(\",\")] \n",
        "                    row.insert(0, movieID)\n",
        "                    data.write(\",\".join(row))\n",
        "                    data.write(\"\\n\")\n",
        "        print(\"Reading of file: \"+str(file)+\" is completed\\n\")\n",
        "    data.close()\n",
        "    print(\"Total time taken for execution of this code = \"+str(datetime.now() - startTime))"
      ],
      "execution_count": null,
      "outputs": [
        {
          "output_type": "stream",
          "text": [
            "Reading from file: combined_data_2.txt...\n",
            "Reading of file: combined_data_2.txt is completed\n",
            "\n",
            "Reading from file: combined_data_4.txt...\n",
            "Reading of file: combined_data_4.txt is completed\n",
            "\n",
            "Total time taken for execution of this code = 0:00:52.492241\n"
          ],
          "name": "stdout"
        }
      ]
    },
    {
      "cell_type": "code",
      "metadata": {
        "id": "ikMHmH0kxn6y",
        "outputId": "f8f116bc-7dd3-4d2c-9aea-daacdfbac226",
        "colab": {
          "base_uri": "https://localhost:8080/",
          "height": 35
        }
      },
      "source": [
        "# creating data frame from our output csv file.\n",
        "if not os.path.isfile(\"NetflixData.pkl\"):\n",
        "    startTime = datetime.now()\n",
        "    Final_Data = pd.read_csv(\"NetflixRatings.csv\", sep=\",\", names = [\"MovieID\",\"CustID\", \"Ratings\", \"Date\"])\n",
        "    Final_Data[\"Date\"] = pd.to_datetime(Final_Data[\"Date\"])\n",
        "    Final_Data.sort_values(by = \"Date\", inplace = True)\n",
        "    print(\"Time taken for execution of above code = \"+str(datetime.now() - startTime))"
      ],
      "execution_count": null,
      "outputs": [
        {
          "output_type": "stream",
          "text": [
            "Time taken for execution of above code = 0:00:27.571515\n"
          ],
          "name": "stdout"
        }
      ]
    },
    {
      "cell_type": "code",
      "metadata": {
        "id": "HcVzhmzPxol9"
      },
      "source": [
        "# storing pandas dataframe as a picklefile for later use\n",
        "if not os.path.isfile(\"NetflixData.pkl\"):\n",
        "    Final_Data.to_pickle(\"NetflixData.pkl\")\n",
        "else:\n",
        "    Final_Data = pd.read_pickle(\"NetflixData.pkl\")"
      ],
      "execution_count": null,
      "outputs": []
    },
    {
      "cell_type": "code",
      "metadata": {
        "id": "VDNi-mMmxo9r",
        "outputId": "3ca8464e-a3ae-4bc5-9985-57363a707751",
        "colab": {
          "base_uri": "https://localhost:8080/",
          "height": 204
        }
      },
      "source": [
        "Final_Data.head()"
      ],
      "execution_count": null,
      "outputs": [
        {
          "output_type": "execute_result",
          "data": {
            "text/html": [
              "<div>\n",
              "<style scoped>\n",
              "    .dataframe tbody tr th:only-of-type {\n",
              "        vertical-align: middle;\n",
              "    }\n",
              "\n",
              "    .dataframe tbody tr th {\n",
              "        vertical-align: top;\n",
              "    }\n",
              "\n",
              "    .dataframe thead th {\n",
              "        text-align: right;\n",
              "    }\n",
              "</style>\n",
              "<table border=\"1\" class=\"dataframe\">\n",
              "  <thead>\n",
              "    <tr style=\"text-align: right;\">\n",
              "      <th></th>\n",
              "      <th>MovieID</th>\n",
              "      <th>CustID</th>\n",
              "      <th>Ratings</th>\n",
              "      <th>Date</th>\n",
              "    </tr>\n",
              "  </thead>\n",
              "  <tbody>\n",
              "    <tr>\n",
              "      <th>28494163</th>\n",
              "      <td>15105</td>\n",
              "      <td>510180</td>\n",
              "      <td>4.0</td>\n",
              "      <td>1999-11-11</td>\n",
              "    </tr>\n",
              "    <tr>\n",
              "      <th>28043968</th>\n",
              "      <td>15057</td>\n",
              "      <td>510180</td>\n",
              "      <td>5.0</td>\n",
              "      <td>1999-11-11</td>\n",
              "    </tr>\n",
              "    <tr>\n",
              "      <th>6465113</th>\n",
              "      <td>5571</td>\n",
              "      <td>510180</td>\n",
              "      <td>4.0</td>\n",
              "      <td>1999-11-11</td>\n",
              "    </tr>\n",
              "    <tr>\n",
              "      <th>25634526</th>\n",
              "      <td>14660</td>\n",
              "      <td>510180</td>\n",
              "      <td>2.0</td>\n",
              "      <td>1999-11-11</td>\n",
              "    </tr>\n",
              "    <tr>\n",
              "      <th>33233151</th>\n",
              "      <td>15894</td>\n",
              "      <td>510180</td>\n",
              "      <td>3.0</td>\n",
              "      <td>1999-11-11</td>\n",
              "    </tr>\n",
              "  </tbody>\n",
              "</table>\n",
              "</div>"
            ],
            "text/plain": [
              "          MovieID  CustID  Ratings       Date\n",
              "28494163    15105  510180      4.0 1999-11-11\n",
              "28043968    15057  510180      5.0 1999-11-11\n",
              "6465113      5571  510180      4.0 1999-11-11\n",
              "25634526    14660  510180      2.0 1999-11-11\n",
              "33233151    15894  510180      3.0 1999-11-11"
            ]
          },
          "metadata": {
            "tags": []
          },
          "execution_count": 6
        }
      ]
    },
    {
      "cell_type": "code",
      "metadata": {
        "id": "P7Eigp_txpb6",
        "outputId": "266618f2-7fe8-4e60-8379-4da61e1e265a",
        "colab": {
          "base_uri": "https://localhost:8080/",
          "height": 179
        }
      },
      "source": [
        "Final_Data.describe()[\"Ratings\"]"
      ],
      "execution_count": null,
      "outputs": [
        {
          "output_type": "execute_result",
          "data": {
            "text/plain": [
              "count    3.423874e+07\n",
              "mean     3.605286e+00\n",
              "std      1.083032e+00\n",
              "min      1.000000e+00\n",
              "25%      3.000000e+00\n",
              "50%      4.000000e+00\n",
              "75%      4.000000e+00\n",
              "max      5.000000e+00\n",
              "Name: Ratings, dtype: float64"
            ]
          },
          "metadata": {
            "tags": []
          },
          "execution_count": 7
        }
      ]
    },
    {
      "cell_type": "markdown",
      "metadata": {
        "id": "yI0qjNpIyIx-"
      },
      "source": [
        "**Checking for NaN Values**"
      ]
    },
    {
      "cell_type": "code",
      "metadata": {
        "id": "HMlgMdmoxp2y",
        "outputId": "8b7f00d7-a37b-4bef-9ad8-0b9399427244",
        "colab": {
          "base_uri": "https://localhost:8080/",
          "height": 107
        }
      },
      "source": [
        "print(\"Number of NaN values = \"+str(Final_Data.isnull().sum()))"
      ],
      "execution_count": null,
      "outputs": [
        {
          "output_type": "stream",
          "text": [
            "Number of NaN values = MovieID    0\n",
            "CustID     0\n",
            "Ratings    1\n",
            "Date       1\n",
            "dtype: int64\n"
          ],
          "name": "stdout"
        }
      ]
    },
    {
      "cell_type": "markdown",
      "metadata": {
        "id": "KXBJftF6yNtF"
      },
      "source": [
        "**Removing Duplicate Values**"
      ]
    },
    {
      "cell_type": "code",
      "metadata": {
        "id": "-HLAJ8vJxpli",
        "outputId": "47b47b48-f9be-42a7-e686-dd3c3aeb631e",
        "colab": {
          "base_uri": "https://localhost:8080/",
          "height": 35
        }
      },
      "source": [
        "duplicates = Final_Data.duplicated([\"MovieID\",\"CustID\", \"Ratings\"])\n",
        "print(\"Number of duplicate rows = \"+str(duplicates.sum()))"
      ],
      "execution_count": null,
      "outputs": [
        {
          "output_type": "stream",
          "text": [
            "Number of duplicate rows = 0\n"
          ],
          "name": "stdout"
        }
      ]
    },
    {
      "cell_type": "markdown",
      "metadata": {
        "id": "MCuC51rhySbt"
      },
      "source": [
        "**Basic Statistics**"
      ]
    },
    {
      "cell_type": "code",
      "metadata": {
        "id": "NpJtcJoqxpNp",
        "outputId": "9335058f-9063-4f60-a961-ccf1110ab197",
        "colab": {
          "base_uri": "https://localhost:8080/",
          "height": 89
        }
      },
      "source": [
        "print(\"Total Data:\")\n",
        "print(\"Total number of movie ratings = \"+str(Final_Data.shape[0]))\n",
        "print(\"Number of unique users = \"+str(len(np.unique(Final_Data[\"CustID\"]))))\n",
        "print(\"Number of unique movies = \"+str(len(np.unique(Final_Data[\"MovieID\"]))))"
      ],
      "execution_count": null,
      "outputs": [
        {
          "output_type": "stream",
          "text": [
            "Total Data:\n",
            "Total number of movie ratings = 34238742\n",
            "Number of unique users = 476557\n",
            "Number of unique movies = 5583\n"
          ],
          "name": "stdout"
        }
      ]
    },
    {
      "cell_type": "code",
      "metadata": {
        "id": "UvUvM1fNxowA"
      },
      "source": [
        "if not os.path.isfile(\"TrainData.pkl\"):\n",
        "    Final_Data.iloc[:int(Final_Data.shape[0]*0.80)].to_pickle(\"TrainData.pkl\")\n",
        "    Train_Data = pd.read_pickle(\"TrainData.pkl\")\n",
        "    Train_Data.reset_index(drop = True, inplace = True)\n",
        "else:\n",
        "    Train_Data = pd.read_pickle(\"TrainData.pkl\")\n",
        "    Train_Data.reset_index(drop = True, inplace = True)\n",
        "\n",
        "if not os.path.isfile(\"TestData.pkl\"):\n",
        "    Final_Data.iloc[int(Final_Data.shape[0]*0.80):].to_pickle(\"TestData.pkl\")\n",
        "    Test_Data = pd.read_pickle(\"TestData.pkl\")\n",
        "    Test_Data.reset_index(drop = True, inplace = True)\n",
        "else:\n",
        "    Test_Data = pd.read_pickle(\"TestData.pkl\")\n",
        "    Test_Data.reset_index(drop = True, inplace = True)"
      ],
      "execution_count": null,
      "outputs": []
    },
    {
      "cell_type": "code",
      "metadata": {
        "id": "pL9bkxmBxoYh",
        "outputId": "27b28c2b-de1f-42c5-d47a-822f8bb08ec4",
        "colab": {
          "base_uri": "https://localhost:8080/",
          "height": 204
        }
      },
      "source": [
        "Train_Data.head()"
      ],
      "execution_count": null,
      "outputs": [
        {
          "output_type": "execute_result",
          "data": {
            "text/html": [
              "<div>\n",
              "<style scoped>\n",
              "    .dataframe tbody tr th:only-of-type {\n",
              "        vertical-align: middle;\n",
              "    }\n",
              "\n",
              "    .dataframe tbody tr th {\n",
              "        vertical-align: top;\n",
              "    }\n",
              "\n",
              "    .dataframe thead th {\n",
              "        text-align: right;\n",
              "    }\n",
              "</style>\n",
              "<table border=\"1\" class=\"dataframe\">\n",
              "  <thead>\n",
              "    <tr style=\"text-align: right;\">\n",
              "      <th></th>\n",
              "      <th>MovieID</th>\n",
              "      <th>CustID</th>\n",
              "      <th>Ratings</th>\n",
              "      <th>Date</th>\n",
              "    </tr>\n",
              "  </thead>\n",
              "  <tbody>\n",
              "    <tr>\n",
              "      <th>0</th>\n",
              "      <td>15105</td>\n",
              "      <td>510180</td>\n",
              "      <td>4.0</td>\n",
              "      <td>1999-11-11</td>\n",
              "    </tr>\n",
              "    <tr>\n",
              "      <th>1</th>\n",
              "      <td>15057</td>\n",
              "      <td>510180</td>\n",
              "      <td>5.0</td>\n",
              "      <td>1999-11-11</td>\n",
              "    </tr>\n",
              "    <tr>\n",
              "      <th>2</th>\n",
              "      <td>5571</td>\n",
              "      <td>510180</td>\n",
              "      <td>4.0</td>\n",
              "      <td>1999-11-11</td>\n",
              "    </tr>\n",
              "    <tr>\n",
              "      <th>3</th>\n",
              "      <td>14660</td>\n",
              "      <td>510180</td>\n",
              "      <td>2.0</td>\n",
              "      <td>1999-11-11</td>\n",
              "    </tr>\n",
              "    <tr>\n",
              "      <th>4</th>\n",
              "      <td>15894</td>\n",
              "      <td>510180</td>\n",
              "      <td>3.0</td>\n",
              "      <td>1999-11-11</td>\n",
              "    </tr>\n",
              "  </tbody>\n",
              "</table>\n",
              "</div>"
            ],
            "text/plain": [
              "   MovieID  CustID  Ratings       Date\n",
              "0    15105  510180      4.0 1999-11-11\n",
              "1    15057  510180      5.0 1999-11-11\n",
              "2     5571  510180      4.0 1999-11-11\n",
              "3    14660  510180      2.0 1999-11-11\n",
              "4    15894  510180      3.0 1999-11-11"
            ]
          },
          "metadata": {
            "tags": []
          },
          "execution_count": 12
        }
      ]
    },
    {
      "cell_type": "code",
      "metadata": {
        "id": "2vlyAIzYxnpT",
        "outputId": "2fe305cf-d747-4cf0-fb43-13a7d70edf8a",
        "colab": {
          "base_uri": "https://localhost:8080/",
          "height": 248
        }
      },
      "source": [
        "print(\"Total Train Data:\")\n",
        "print(\"Total number of movie ratings in train data = \"+str(Train_Data.shape[0]))\n",
        "print(\"Number of unique users in train data = \"+str(len(np.unique(Train_Data[\"CustID\"]))))\n",
        "print(\"Number of unique movies in train data = \"+str(len(np.unique(Train_Data[\"MovieID\"]))))\n",
        "print(\"Highest value of a User ID = \"+str(max(Train_Data[\"CustID\"].values)))\n",
        "print(\"Highest value of a Movie ID = \"+str(max(Train_Data[\"MovieID\"].values)))"
      ],
      "execution_count": null,
      "outputs": [
        {
          "output_type": "stream",
          "text": [
            "Total Train Data:\n"
          ],
          "name": "stdout"
        },
        {
          "output_type": "error",
          "ename": "NameError",
          "evalue": "ignored",
          "traceback": [
            "\u001b[0;31m---------------------------------------------------------------------------\u001b[0m",
            "\u001b[0;31mNameError\u001b[0m                                 Traceback (most recent call last)",
            "\u001b[0;32m<ipython-input-1-fa3d4aef442c>\u001b[0m in \u001b[0;36m<module>\u001b[0;34m()\u001b[0m\n\u001b[1;32m      1\u001b[0m \u001b[0mprint\u001b[0m\u001b[0;34m(\u001b[0m\u001b[0;34m\"Total Train Data:\"\u001b[0m\u001b[0;34m)\u001b[0m\u001b[0;34m\u001b[0m\u001b[0;34m\u001b[0m\u001b[0m\n\u001b[0;32m----> 2\u001b[0;31m \u001b[0mprint\u001b[0m\u001b[0;34m(\u001b[0m\u001b[0;34m\"Total number of movie ratings in train data = \"\u001b[0m\u001b[0;34m+\u001b[0m\u001b[0mstr\u001b[0m\u001b[0;34m(\u001b[0m\u001b[0mTrain_Data\u001b[0m\u001b[0;34m.\u001b[0m\u001b[0mshape\u001b[0m\u001b[0;34m[\u001b[0m\u001b[0;36m0\u001b[0m\u001b[0;34m]\u001b[0m\u001b[0;34m)\u001b[0m\u001b[0;34m)\u001b[0m\u001b[0;34m\u001b[0m\u001b[0;34m\u001b[0m\u001b[0m\n\u001b[0m\u001b[1;32m      3\u001b[0m \u001b[0mprint\u001b[0m\u001b[0;34m(\u001b[0m\u001b[0;34m\"Number of unique users in train data = \"\u001b[0m\u001b[0;34m+\u001b[0m\u001b[0mstr\u001b[0m\u001b[0;34m(\u001b[0m\u001b[0mlen\u001b[0m\u001b[0;34m(\u001b[0m\u001b[0mnp\u001b[0m\u001b[0;34m.\u001b[0m\u001b[0munique\u001b[0m\u001b[0;34m(\u001b[0m\u001b[0mTrain_Data\u001b[0m\u001b[0;34m[\u001b[0m\u001b[0;34m\"CustID\"\u001b[0m\u001b[0;34m]\u001b[0m\u001b[0;34m)\u001b[0m\u001b[0;34m)\u001b[0m\u001b[0;34m)\u001b[0m\u001b[0;34m)\u001b[0m\u001b[0;34m\u001b[0m\u001b[0;34m\u001b[0m\u001b[0m\n\u001b[1;32m      4\u001b[0m \u001b[0mprint\u001b[0m\u001b[0;34m(\u001b[0m\u001b[0;34m\"Number of unique movies in train data = \"\u001b[0m\u001b[0;34m+\u001b[0m\u001b[0mstr\u001b[0m\u001b[0;34m(\u001b[0m\u001b[0mlen\u001b[0m\u001b[0;34m(\u001b[0m\u001b[0mnp\u001b[0m\u001b[0;34m.\u001b[0m\u001b[0munique\u001b[0m\u001b[0;34m(\u001b[0m\u001b[0mTrain_Data\u001b[0m\u001b[0;34m[\u001b[0m\u001b[0;34m\"MovieID\"\u001b[0m\u001b[0;34m]\u001b[0m\u001b[0;34m)\u001b[0m\u001b[0;34m)\u001b[0m\u001b[0;34m)\u001b[0m\u001b[0;34m)\u001b[0m\u001b[0;34m\u001b[0m\u001b[0;34m\u001b[0m\u001b[0m\n\u001b[1;32m      5\u001b[0m \u001b[0mprint\u001b[0m\u001b[0;34m(\u001b[0m\u001b[0;34m\"Highest value of a User ID = \"\u001b[0m\u001b[0;34m+\u001b[0m\u001b[0mstr\u001b[0m\u001b[0;34m(\u001b[0m\u001b[0mmax\u001b[0m\u001b[0;34m(\u001b[0m\u001b[0mTrain_Data\u001b[0m\u001b[0;34m[\u001b[0m\u001b[0;34m\"CustID\"\u001b[0m\u001b[0;34m]\u001b[0m\u001b[0;34m.\u001b[0m\u001b[0mvalues\u001b[0m\u001b[0;34m)\u001b[0m\u001b[0;34m)\u001b[0m\u001b[0;34m)\u001b[0m\u001b[0;34m\u001b[0m\u001b[0;34m\u001b[0m\u001b[0m\n",
            "\u001b[0;31mNameError\u001b[0m: name 'Train_Data' is not defined"
          ]
        }
      ]
    },
    {
      "cell_type": "code",
      "metadata": {
        "id": "B4asoxj1yg-G",
        "outputId": "70d504a8-bb03-4f6e-aaa0-7fb1da6293cc",
        "colab": {
          "base_uri": "https://localhost:8080/",
          "height": 204
        }
      },
      "source": [
        "Test_Data.head()"
      ],
      "execution_count": null,
      "outputs": [
        {
          "output_type": "execute_result",
          "data": {
            "text/html": [
              "<div>\n",
              "<style scoped>\n",
              "    .dataframe tbody tr th:only-of-type {\n",
              "        vertical-align: middle;\n",
              "    }\n",
              "\n",
              "    .dataframe tbody tr th {\n",
              "        vertical-align: top;\n",
              "    }\n",
              "\n",
              "    .dataframe thead th {\n",
              "        text-align: right;\n",
              "    }\n",
              "</style>\n",
              "<table border=\"1\" class=\"dataframe\">\n",
              "  <thead>\n",
              "    <tr style=\"text-align: right;\">\n",
              "      <th></th>\n",
              "      <th>MovieID</th>\n",
              "      <th>CustID</th>\n",
              "      <th>Ratings</th>\n",
              "      <th>Date</th>\n",
              "    </tr>\n",
              "  </thead>\n",
              "  <tbody>\n",
              "    <tr>\n",
              "      <th>0</th>\n",
              "      <td>14137</td>\n",
              "      <td>2132252</td>\n",
              "      <td>4.0</td>\n",
              "      <td>2005-08-10</td>\n",
              "    </tr>\n",
              "    <tr>\n",
              "      <th>1</th>\n",
              "      <td>14852</td>\n",
              "      <td>148350</td>\n",
              "      <td>5.0</td>\n",
              "      <td>2005-08-10</td>\n",
              "    </tr>\n",
              "    <tr>\n",
              "      <th>2</th>\n",
              "      <td>15551</td>\n",
              "      <td>721162</td>\n",
              "      <td>4.0</td>\n",
              "      <td>2005-08-10</td>\n",
              "    </tr>\n",
              "    <tr>\n",
              "      <th>3</th>\n",
              "      <td>6428</td>\n",
              "      <td>1891817</td>\n",
              "      <td>5.0</td>\n",
              "      <td>2005-08-10</td>\n",
              "    </tr>\n",
              "    <tr>\n",
              "      <th>4</th>\n",
              "      <td>6336</td>\n",
              "      <td>793892</td>\n",
              "      <td>4.0</td>\n",
              "      <td>2005-08-10</td>\n",
              "    </tr>\n",
              "  </tbody>\n",
              "</table>\n",
              "</div>"
            ],
            "text/plain": [
              "   MovieID   CustID  Ratings       Date\n",
              "0    14137  2132252      4.0 2005-08-10\n",
              "1    14852   148350      5.0 2005-08-10\n",
              "2    15551   721162      4.0 2005-08-10\n",
              "3     6428  1891817      5.0 2005-08-10\n",
              "4     6336   793892      4.0 2005-08-10"
            ]
          },
          "metadata": {
            "tags": []
          },
          "execution_count": 14
        }
      ]
    },
    {
      "cell_type": "code",
      "metadata": {
        "id": "SnoeLYp-yhjZ",
        "outputId": "879898eb-d5b2-46f2-eb10-ad69bf45dd14",
        "colab": {
          "base_uri": "https://localhost:8080/",
          "height": 125
        }
      },
      "source": [
        "print(\"Total Test Data:\")\n",
        "print(\"Total number of movie ratings in Test data = \"+str(Test_Data.shape[0]))\n",
        "print(\"Number of unique users in Test data = \"+str(len(np.unique(Test_Data[\"CustID\"]))))\n",
        "print(\"Number of unique movies in Test data = \"+str(len(np.unique(Test_Data[\"MovieID\"]))))\n",
        "print(\"Highest value of a User ID = \"+str(max(Test_Data[\"CustID\"].values)))\n",
        "print(\"Highest value of a Movie ID = \"+str(max(Test_Data[\"MovieID\"].values)))"
      ],
      "execution_count": null,
      "outputs": [
        {
          "output_type": "stream",
          "text": [
            "Total Test Data:\n",
            "Total number of movie ratings in Test data = 6847749\n",
            "Number of unique users in Test data = 309173\n",
            "Number of unique movies in Test data = 5579\n",
            "Highest value of a User ID = 2649429\n",
            "Highest value of a Movie ID = 16118\n"
          ],
          "name": "stdout"
        }
      ]
    },
    {
      "cell_type": "markdown",
      "metadata": {
        "id": "OPrrDWKwyurA"
      },
      "source": [
        "**Exploratory Analysis on Train Data**"
      ]
    },
    {
      "cell_type": "code",
      "metadata": {
        "id": "E2U2KkFXyiDX"
      },
      "source": [
        "def changingLabels(number):\n",
        "    return str(number/10**6) + \"M\""
      ],
      "execution_count": null,
      "outputs": []
    },
    {
      "cell_type": "code",
      "metadata": {
        "id": "iTz6v5QWyikT",
        "outputId": "7e859d34-f433-4630-92d3-7b89341acf02",
        "colab": {
          "base_uri": "https://localhost:8080/",
          "height": 532
        }
      },
      "source": [
        "plt.figure(figsize = (12, 8))\n",
        "ax = sns.countplot(x=\"Ratings\", data=Train_Data)\n",
        "\n",
        "ax.set_yticklabels([changingLabels(num) for num in ax.get_yticks()])\n",
        "\n",
        "plt.tick_params(labelsize = 15)\n",
        "plt.title(\"Distribution of Ratings in train data\", fontsize = 20)\n",
        "plt.xlabel(\"Ratings\", fontsize = 20)\n",
        "plt.ylabel(\"Number of Ratings(Millions)\", fontsize = 20)\n",
        "plt.show()"
      ],
      "execution_count": null,
      "outputs": [
        {
          "output_type": "display_data",
          "data": {
            "image/png": "[encoded data removed]",
            "text/plain": [
              "<Figure size 864x576 with 1 Axes>"
            ]
          },
          "metadata": {
            "tags": []
          }
        }
      ]
    },
    {
      "cell_type": "code",
      "metadata": {
        "id": "l15pQPnJyjAR"
      },
      "source": [
        "Train_Data[\"DayOfWeek\"] = Train_Data.Date.dt.day_name()"
      ],
      "execution_count": null,
      "outputs": []
    },
    {
      "cell_type": "code",
      "metadata": {
        "id": "itaX2zqzyjfm",
        "outputId": "00f6dcaa-5b3d-4dc5-9ca0-23696603ebea",
        "colab": {
          "base_uri": "https://localhost:8080/",
          "height": 204
        }
      },
      "source": [
        "Train_Data.tail()"
      ],
      "execution_count": null,
      "outputs": [
        {
          "output_type": "execute_result",
          "data": {
            "text/html": [
              "<div>\n",
              "<style scoped>\n",
              "    .dataframe tbody tr th:only-of-type {\n",
              "        vertical-align: middle;\n",
              "    }\n",
              "\n",
              "    .dataframe tbody tr th {\n",
              "        vertical-align: top;\n",
              "    }\n",
              "\n",
              "    .dataframe thead th {\n",
              "        text-align: right;\n",
              "    }\n",
              "</style>\n",
              "<table border=\"1\" class=\"dataframe\">\n",
              "  <thead>\n",
              "    <tr style=\"text-align: right;\">\n",
              "      <th></th>\n",
              "      <th>MovieID</th>\n",
              "      <th>CustID</th>\n",
              "      <th>Ratings</th>\n",
              "      <th>Date</th>\n",
              "      <th>DayOfWeek</th>\n",
              "    </tr>\n",
              "  </thead>\n",
              "  <tbody>\n",
              "    <tr>\n",
              "      <th>27390988</th>\n",
              "      <td>5571</td>\n",
              "      <td>1502020</td>\n",
              "      <td>3.0</td>\n",
              "      <td>2005-08-10</td>\n",
              "      <td>Wednesday</td>\n",
              "    </tr>\n",
              "    <tr>\n",
              "      <th>27390989</th>\n",
              "      <td>4740</td>\n",
              "      <td>921320</td>\n",
              "      <td>5.0</td>\n",
              "      <td>2005-08-10</td>\n",
              "      <td>Wednesday</td>\n",
              "    </tr>\n",
              "    <tr>\n",
              "      <th>27390990</th>\n",
              "      <td>15114</td>\n",
              "      <td>929499</td>\n",
              "      <td>4.0</td>\n",
              "      <td>2005-08-10</td>\n",
              "      <td>Wednesday</td>\n",
              "    </tr>\n",
              "    <tr>\n",
              "      <th>27390991</th>\n",
              "      <td>14137</td>\n",
              "      <td>680507</td>\n",
              "      <td>2.0</td>\n",
              "      <td>2005-08-10</td>\n",
              "      <td>Wednesday</td>\n",
              "    </tr>\n",
              "    <tr>\n",
              "      <th>27390992</th>\n",
              "      <td>5838</td>\n",
              "      <td>1904865</td>\n",
              "      <td>2.0</td>\n",
              "      <td>2005-08-10</td>\n",
              "      <td>Wednesday</td>\n",
              "    </tr>\n",
              "  </tbody>\n",
              "</table>\n",
              "</div>"
            ],
            "text/plain": [
              "          MovieID   CustID  Ratings       Date  DayOfWeek\n",
              "27390988     5571  1502020      3.0 2005-08-10  Wednesday\n",
              "27390989     4740   921320      5.0 2005-08-10  Wednesday\n",
              "27390990    15114   929499      4.0 2005-08-10  Wednesday\n",
              "27390991    14137   680507      2.0 2005-08-10  Wednesday\n",
              "27390992     5838  1904865      2.0 2005-08-10  Wednesday"
            ]
          },
          "metadata": {
            "tags": []
          },
          "execution_count": 47
        }
      ]
    },
    {
      "cell_type": "markdown",
      "metadata": {
        "id": "0OXaVJc4y_NH"
      },
      "source": [
        "**Number of Ratings Per Month**"
      ]
    },
    {
      "cell_type": "code",
      "metadata": {
        "id": "l7iBO4CpyjsL",
        "outputId": "394d2fd7-9bba-4665-f5dd-f54ea9c2d25b",
        "colab": {
          "base_uri": "https://localhost:8080/",
          "height": 532
        }
      },
      "source": [
        "plt.figure(figsize = (10,8))\n",
        "ax = Train_Data.resample(\"M\", on = \"Date\")[\"Ratings\"].count().plot()\n",
        "ax.set_yticklabels([changingLabels(num) for num in ax.get_yticks()])\n",
        "ax.set_title(\"Number of Ratings per month\", fontsize = 20)\n",
        "ax.set_xlabel(\"Date\", fontsize = 20)\n",
        "ax.set_ylabel(\"Number of Ratings Per Month(Millions)\", fontsize = 20)\n",
        "plt.tick_params(labelsize = 15)\n",
        "plt.show()"
      ],
      "execution_count": null,
      "outputs": [
        {
          "output_type": "display_data",
          "data": {
            "image/png": "[encoded data removed]",
            "text/plain": [
              "<Figure size 720x576 with 1 Axes>"
            ]
          },
          "metadata": {
            "tags": []
          }
        }
      ]
    },
    {
      "cell_type": "markdown",
      "metadata": {
        "id": "YMP9SwDDzJEP"
      },
      "source": [
        "**Analysis of Rating Given by User**"
      ]
    },
    {
      "cell_type": "code",
      "metadata": {
        "id": "Now6nisoyjPf"
      },
      "source": [
        "no_of_rated_movies_per_user = Train_Data.groupby(by = \"CustID\")[\"Ratings\"].count().sort_values(ascending = False)"
      ],
      "execution_count": null,
      "outputs": []
    },
    {
      "cell_type": "code",
      "metadata": {
        "id": "U06o-w8EyixE",
        "outputId": "fd9ee6ff-da7b-49d2-ea74-8bfb0a8e1b54",
        "colab": {
          "base_uri": "https://localhost:8080/",
          "height": 143
        }
      },
      "source": [
        "no_of_rated_movies_per_user.head()"
      ],
      "execution_count": null,
      "outputs": [
        {
          "output_type": "execute_result",
          "data": {
            "text/plain": [
              "CustID\n",
              "305344     5365\n",
              "2439493    4951\n",
              "387418     4831\n",
              "1639792    3025\n",
              "1461435    2970\n",
              "Name: Ratings, dtype: int64"
            ]
          },
          "metadata": {
            "tags": []
          },
          "execution_count": 23
        }
      ]
    },
    {
      "cell_type": "code",
      "metadata": {
        "id": "Qgd3hAxfyiSz",
        "outputId": "49172f33-1b79-4f1c-a3e6-9e5bcf6c993c",
        "colab": {
          "base_uri": "https://localhost:8080/",
          "height": 513
        }
      },
      "source": [
        "fig, axes = plt.subplots(nrows = 1, ncols = 2, figsize=(14,7))\n",
        "\n",
        "sns.kdeplot(no_of_rated_movies_per_user.values, shade = True, ax = axes[0])\n",
        "axes[0].set_title(\"PDF\", fontsize = 18)\n",
        "axes[0].set_xlabel(\"Number of Ratings by user\", fontsize = 18)\n",
        "axes[0].tick_params(labelsize = 15)\n",
        "\n",
        "sns.kdeplot(no_of_rated_movies_per_user.values, shade = True, cumulative = True, ax = axes[1])\n",
        "axes[1].set_title(\"CDF\", fontsize = 18)\n",
        "axes[1].set_xlabel(\"Number of Ratings by user\", fontsize = 18)\n",
        "axes[1].tick_params(labelsize = 15)\n",
        "\n",
        "fig.subplots_adjust(wspace=2)\n",
        "plt.tight_layout()\n",
        "plt.show()"
      ],
      "execution_count": null,
      "outputs": [
        {
          "output_type": "display_data",
          "data": {
            "image/png": "[encoded data removed]",
            "text/plain": [
              "<Figure size 1008x504 with 2 Axes>"
            ]
          },
          "metadata": {
            "tags": []
          }
        }
      ]
    },
    {
      "cell_type": "code",
      "metadata": {
        "id": "5ZnNrDR-yh1C",
        "outputId": "2d472d63-976d-4000-a3e6-e28dd0bab6e4",
        "colab": {
          "base_uri": "https://localhost:8080/",
          "height": 197
        }
      },
      "source": [
        "print(\"Information about movie ratings grouped by users:\")\n",
        "no_of_rated_movies_per_user.describe()"
      ],
      "execution_count": null,
      "outputs": [
        {
          "output_type": "stream",
          "text": [
            "Information about movie ratings grouped by users:\n"
          ],
          "name": "stdout"
        },
        {
          "output_type": "execute_result",
          "data": {
            "text/plain": [
              "count    398989.000000\n",
              "mean         68.650998\n",
              "std          97.022128\n",
              "min           1.000000\n",
              "25%          12.000000\n",
              "50%          32.000000\n",
              "75%          86.000000\n",
              "max        5365.000000\n",
              "Name: Ratings, dtype: float64"
            ]
          },
          "metadata": {
            "tags": []
          },
          "execution_count": 25
        }
      ]
    },
    {
      "cell_type": "code",
      "metadata": {
        "id": "ldxVX5TAyhRL"
      },
      "source": [
        "quantiles = no_of_rated_movies_per_user.quantile(np.arange(0,1.01,0.01))"
      ],
      "execution_count": null,
      "outputs": []
    },
    {
      "cell_type": "code",
      "metadata": {
        "id": "vn8avBW_yguR",
        "outputId": "897be0a4-ed18-4707-ca60-f1bbfed0daae",
        "colab": {
          "base_uri": "https://localhost:8080/",
          "height": 529
        }
      },
      "source": [
        "fig = plt.figure(figsize = (10, 6))\n",
        "\n",
        "axes = fig.add_axes([0.1,0.1,1,1])\n",
        "axes.set_title(\"Quantile values of Ratings Per User\", fontsize = 20)\n",
        "axes.set_xlabel(\"Quantiles\", fontsize = 20)\n",
        "axes.set_ylabel(\"Ratings Per User\", fontsize = 20)\n",
        "axes.plot(quantiles)\n",
        "\n",
        "plt.scatter(x = quantiles.index[::5], y = quantiles.values[::5], c = \"blue\", s = 70, label=\"quantiles with 0.05 intervals\")\n",
        "plt.scatter(x = quantiles.index[::25], y = quantiles.values[::25], c = \"red\", s = 70, label=\"quantiles with 0.25 intervals\")\n",
        "plt.legend(loc='upper left', fontsize = 20)\n",
        "\n",
        "for x, y in zip(quantiles.index[::25], quantiles.values[::25]):\n",
        "    plt.annotate(s = '({},{})'.format(x, y), xy = (x, y), fontweight='bold', fontsize = 16, xytext=(x-0.05, y+180))\n",
        "    \n",
        "axes.tick_params(labelsize = 15)"
      ],
      "execution_count": null,
      "outputs": [
        {
          "output_type": "display_data",
          "data": {
            "image/png": "[encoded data removed]",
            "text/plain": [
              "<Figure size 720x432 with 1 Axes>"
            ]
          },
          "metadata": {
            "tags": []
          }
        }
      ]
    },
    {
      "cell_type": "code",
      "metadata": {
        "id": "DPnwvrlmzauR",
        "outputId": "0624f751-e951-4986-c85f-a828ac66eab7",
        "colab": {
          "base_uri": "https://localhost:8080/",
          "height": 413
        }
      },
      "source": [
        "quantiles[::5]"
      ],
      "execution_count": null,
      "outputs": [
        {
          "output_type": "execute_result",
          "data": {
            "text/plain": [
              "0.00       1.0\n",
              "0.05       3.0\n",
              "0.10       6.0\n",
              "0.15       8.0\n",
              "0.20      10.0\n",
              "0.25      12.0\n",
              "0.30      15.0\n",
              "0.35      18.0\n",
              "0.40      22.0\n",
              "0.45      26.0\n",
              "0.50      32.0\n",
              "0.55      39.0\n",
              "0.60      47.0\n",
              "0.65      57.0\n",
              "0.70      70.0\n",
              "0.75      86.0\n",
              "0.80     107.0\n",
              "0.85     136.0\n",
              "0.90     180.0\n",
              "0.95     256.0\n",
              "1.00    5365.0\n",
              "Name: Ratings, dtype: float64"
            ]
          },
          "metadata": {
            "tags": []
          },
          "execution_count": 28
        }
      ]
    },
    {
      "cell_type": "code",
      "metadata": {
        "id": "g0MrWX_IzbTQ",
        "outputId": "eeece737-c7a6-4715-8932-fad7891d2dc5",
        "colab": {
          "base_uri": "https://localhost:8080/",
          "height": 53
        }
      },
      "source": [
        "print(\"Total number of ratings below 75th percentile = \"+str(sum(no_of_rated_movies_per_user.values<=133)))\n",
        "print(\"Total number of ratings above 75th percentile = \"+str(sum(no_of_rated_movies_per_user.values>133)))"
      ],
      "execution_count": null,
      "outputs": [
        {
          "output_type": "stream",
          "text": [
            "Total number of ratings below 75th percentile = 337460\n",
            "Total number of ratings above 75th percentile = 61529\n"
          ],
          "name": "stdout"
        }
      ]
    },
    {
      "cell_type": "markdown",
      "metadata": {
        "id": "8TVHJfwxzmUP"
      },
      "source": [
        "**Analysis of Rating Per Movie**"
      ]
    },
    {
      "cell_type": "code",
      "metadata": {
        "id": "Vv4WGOADzb1r"
      },
      "source": [
        "no_of_ratings_per_movie = Train_Data.groupby(by = \"MovieID\")[\"Ratings\"].count().sort_values(ascending = False)"
      ],
      "execution_count": null,
      "outputs": []
    },
    {
      "cell_type": "code",
      "metadata": {
        "id": "D0AJHRZlzcSd",
        "outputId": "2adddf67-1d35-471a-af4c-03be9573c225",
        "colab": {
          "base_uri": "https://localhost:8080/",
          "height": 514
        }
      },
      "source": [
        "fig = plt.figure(figsize = (12, 6))\n",
        "axes = fig.add_axes([0.1,0.1,1,1])\n",
        "plt.title(\"Number of Ratings Per Movie\", fontsize = 20)\n",
        "plt.xlabel(\"Movie\", fontsize = 20)\n",
        "plt.ylabel(\"Count of Ratings\", fontsize = 20)\n",
        "plt.plot(no_of_ratings_per_movie.values)\n",
        "plt.tick_params(labelsize = 15)\n",
        "axes.set_xticklabels([])\n",
        "plt.show()"
      ],
      "execution_count": null,
      "outputs": [
        {
          "output_type": "display_data",
          "data": {
            "image/png": "[encoded data removed]",
            "text/plain": [
              "<Figure size 864x432 with 1 Axes>"
            ]
          },
          "metadata": {
            "tags": []
          }
        }
      ]
    },
    {
      "cell_type": "markdown",
      "metadata": {
        "id": "1QRcTE-DzyLY"
      },
      "source": [
        "**Analysis of Movie Ratings on Day of Week**"
      ]
    },
    {
      "cell_type": "code",
      "metadata": {
        "id": "KxMOgqt2zc5I",
        "outputId": "24c1ee93-65d9-4d79-d433-ebb33bb9c206",
        "colab": {
          "base_uri": "https://localhost:8080/",
          "height": 532
        }
      },
      "source": [
        "fig = plt.figure(figsize = (12, 8))\n",
        "\n",
        "axes = sns.countplot(x = \"DayOfWeek\", data = Train_Data)\n",
        "axes.set_title(\"Day of week VS Number of Ratings\", fontsize = 20)\n",
        "axes.set_xlabel(\"Day of Week\", fontsize = 20)\n",
        "axes.set_ylabel(\"Number of Ratings\", fontsize = 20)\n",
        "axes.set_yticklabels([changingLabels(num) for num in ax.get_yticks()])\n",
        "axes.tick_params(labelsize = 15)\n",
        "\n",
        "plt.show()"
      ],
      "execution_count": null,
      "outputs": [
        {
          "output_type": "display_data",
          "data": {
            "image/png": "[encoded data removed]",
            "text/plain": [
              "<Figure size 864x576 with 1 Axes>"
            ]
          },
          "metadata": {
            "tags": []
          }
        }
      ]
    },
    {
      "cell_type": "code",
      "metadata": {
        "id": "-78Jd9Q7zdYd",
        "outputId": "95d7130f-d05b-47a8-cc84-b9133e51566a",
        "colab": {
          "base_uri": "https://localhost:8080/",
          "height": 532
        }
      },
      "source": [
        "fig = plt.figure(figsize = (12, 8))\n",
        "\n",
        "axes = sns.boxplot(x = \"DayOfWeek\", y = \"Ratings\", data = Train_Data)\n",
        "axes.set_title(\"Day of week VS Number of Ratings\", fontsize = 20)\n",
        "axes.set_xlabel(\"Day of Week\", fontsize = 20)\n",
        "axes.set_ylabel(\"Number of Ratings\", fontsize = 20)\n",
        "axes.tick_params(labelsize = 15)\n",
        "\n",
        "plt.show()"
      ],
      "execution_count": null,
      "outputs": [
        {
          "output_type": "display_data",
          "data": {
            "image/png": "[encoded data removed]",
            "text/plain": [
              "<Figure size 864x576 with 1 Axes>"
            ]
          },
          "metadata": {
            "tags": []
          }
        }
      ]
    },
    {
      "cell_type": "code",
      "metadata": {
        "id": "Avd5KbLNzd3U",
        "outputId": "25561c11-723d-4ff7-8215-bac61d3ef572",
        "colab": {
          "base_uri": "https://localhost:8080/",
          "height": 197
        }
      },
      "source": [
        "average_ratings_dayofweek = Train_Data.groupby(by = \"DayOfWeek\")[\"Ratings\"].mean()\n",
        "print(\"Average Ratings on Day of Weeks\")\n",
        "print(average_ratings_dayofweek)"
      ],
      "execution_count": null,
      "outputs": [
        {
          "output_type": "stream",
          "text": [
            "Average Ratings on Day of Weeks\n",
            "DayOfWeek\n",
            "Friday       3.593185\n",
            "Monday       3.579076\n",
            "Saturday     3.595584\n",
            "Sunday       3.595782\n",
            "Thursday     3.584425\n",
            "Tuesday      3.577627\n",
            "Wednesday    3.586706\n",
            "Name: Ratings, dtype: float64\n"
          ],
          "name": "stdout"
        }
      ]
    },
    {
      "cell_type": "markdown",
      "metadata": {
        "id": "uI1LtBee0BWV"
      },
      "source": [
        "**Creating USER-ITEM sparse matrix from data frame**"
      ]
    },
    {
      "cell_type": "code",
      "metadata": {
        "id": "j0_00HWSzeUv",
        "outputId": "cc5080d2-eb90-43ca-c90a-be35c7a4c820",
        "colab": {
          "base_uri": "https://localhost:8080/",
          "height": 143
        }
      },
      "source": [
        "startTime = datetime.now()\n",
        "print(\"Creating USER_ITEM sparse matrix for train Data\")\n",
        "if os.path.isfile(\"TrainUISparseData.npz\"):\n",
        "    print(\"Sparse Data is already present in your disk, no need to create further. Loading Sparse Matrix\")\n",
        "    TrainUISparseData = sparse.load_npz(\"TrainUISparseData.npz\")\n",
        "    print(\"Shape of Train Sparse matrix = \"+str(TrainUISparseData.shape))\n",
        "    \n",
        "else:\n",
        "    print(\"We are creating sparse data\")\n",
        "    TrainUISparseData = sparse.csr_matrix((Train_Data.Ratings, (Train_Data.CustID, Train_Data.MovieID)))\n",
        "    print(\"Creation done. Shape of sparse matrix = \"+str(TrainUISparseData.shape))\n",
        "    print(\"Saving it into disk for furthur usage.\")\n",
        "    sparse.save_npz(\"TrainUISparseData.npz\", TrainUISparseData)\n",
        "    print(\"Done\\n\")\n",
        "\n",
        "print(datetime.now() - startTime)"
      ],
      "execution_count": null,
      "outputs": [
        {
          "output_type": "stream",
          "text": [
            "Creating USER_ITEM sparse matrix for train Data\n",
            "We are creating sparse data\n",
            "Creation done. Shape of sparse matrix = (2649430, 16119)\n",
            "Saving it into disk for furthur usage.\n",
            "Done\n",
            "\n",
            "0:00:21.036105\n"
          ],
          "name": "stdout"
        }
      ]
    },
    {
      "cell_type": "code",
      "metadata": {
        "id": "DSQpFgR5zeHf",
        "outputId": "71f1ae86-a852-4d01-b172-87f93c3f5a39",
        "colab": {
          "base_uri": "https://localhost:8080/",
          "height": 143
        }
      },
      "source": [
        "startTime = datetime.now()\n",
        "print(\"Creating USER_ITEM sparse matrix for test Data\")\n",
        "if os.path.isfile(\"TestUISparseData.npz\"):\n",
        "    print(\"Sparse Data is already present in your disk, no need to create further. Loading Sparse Matrix\")\n",
        "    TestUISparseData = sparse.load_npz(\"TestUISparseData.npz\")\n",
        "    print(\"Shape of Test Sparse Matrix = \"+str(TestUISparseData.shape))\n",
        "else:\n",
        "    print(\"We are creating sparse data\")\n",
        "    TestUISparseData = sparse.csr_matrix((Test_Data.Ratings, (Test_Data.CustID, Test_Data.MovieID)))\n",
        "    print(\"Creation done. Shape of sparse matrix = \"+str(TestUISparseData.shape))\n",
        "    print(\"Saving it into disk for furthur usage.\")\n",
        "    sparse.save_npz(\"TestUISparseData.npz\", TestUISparseData)\n",
        "    print(\"Done\\n\")\n",
        "\n",
        "print(datetime.now() - startTime)"
      ],
      "execution_count": null,
      "outputs": [
        {
          "output_type": "stream",
          "text": [
            "Creating USER_ITEM sparse matrix for test Data\n",
            "We are creating sparse data\n",
            "Creation done. Shape of sparse matrix = (2649430, 16119)\n",
            "Saving it into disk for furthur usage.\n",
            "Done\n",
            "\n",
            "0:00:05.872045\n"
          ],
          "name": "stdout"
        }
      ]
    },
    {
      "cell_type": "code",
      "metadata": {
        "id": "tL2kgTaAzdoN",
        "outputId": "09e6ca6b-cf9b-442a-ac99-6aa840545986",
        "colab": {
          "base_uri": "https://localhost:8080/",
          "height": 35
        }
      },
      "source": [
        "rows,cols = TrainUISparseData.shape\n",
        "presentElements = TrainUISparseData.count_nonzero()\n",
        "\n",
        "print(\"Sparsity Of Train matrix : {}% \".format((1-(presentElements/(rows*cols)))*100))"
      ],
      "execution_count": null,
      "outputs": [
        {
          "output_type": "stream",
          "text": [
            "Sparsity Of Train matrix : 99.93586173140315% \n"
          ],
          "name": "stdout"
        }
      ]
    },
    {
      "cell_type": "code",
      "metadata": {
        "id": "Q1ZVRa8czdJp",
        "outputId": "2c131939-27c3-467d-b93c-3060328ac9e3",
        "colab": {
          "base_uri": "https://localhost:8080/",
          "height": 35
        }
      },
      "source": [
        "rows,cols = TestUISparseData.shape\n",
        "presentElements = TestUISparseData.count_nonzero()\n",
        "\n",
        "print(\"Sparsity Of Test matrix : {}% \".format((1-(presentElements/(rows*cols)))*100))"
      ],
      "execution_count": null,
      "outputs": [
        {
          "output_type": "stream",
          "text": [
            "Sparsity Of Test matrix : 99.9839654310946% \n"
          ],
          "name": "stdout"
        }
      ]
    },
    {
      "cell_type": "markdown",
      "metadata": {
        "id": "K2g_H5JV0SbI"
      },
      "source": [
        "**Finding Global average of all movie ratings, Average rating per user, and Average rating per movie**"
      ]
    },
    {
      "cell_type": "code",
      "metadata": {
        "id": "ZKLkbrnrzckH"
      },
      "source": [
        "def getAverageRatings(sparseMatrix, if_user):\n",
        "    ax = 1 if if_user else 0 \n",
        "    sumOfRatings = sparseMatrix.sum(axis = ax).A1  \n",
        "    noOfRatings = (sparseMatrix!=0).sum(axis = ax).A1  \n",
        "    rows, cols = sparseMatrix.shape\n",
        "    averageRatings = {i: sumOfRatings[i]/noOfRatings[i] for i in range(rows if if_user else cols) if noOfRatings[i]!=0}\n",
        "    return averageRatings"
      ],
      "execution_count": null,
      "outputs": []
    },
    {
      "cell_type": "markdown",
      "metadata": {
        "id": "J4CH6LUa0iHu"
      },
      "source": [
        "**Global Average Rating**"
      ]
    },
    {
      "cell_type": "code",
      "metadata": {
        "id": "ThNDUg9ZzcBX",
        "outputId": "f68cd3e6-595d-4c7f-9bce-3d3f8375650d",
        "colab": {
          "base_uri": "https://localhost:8080/",
          "height": 35
        }
      },
      "source": [
        "Global_Average_Rating = TrainUISparseData.sum()/TrainUISparseData.count_nonzero()\n",
        "print(\"Global Average Rating {}\".format(Global_Average_Rating))"
      ],
      "execution_count": null,
      "outputs": [
        {
          "output_type": "stream",
          "text": [
            "Global Average Rating 3.5861370925836824\n"
          ],
          "name": "stdout"
        }
      ]
    },
    {
      "cell_type": "markdown",
      "metadata": {
        "id": "A0mQf8RB0mL-"
      },
      "source": [
        "**Average Rating Per User**"
      ]
    },
    {
      "cell_type": "code",
      "metadata": {
        "id": "QNTjDbCAzbkj"
      },
      "source": [
        "AvgRatingUser = getAverageRatings(TrainUISparseData, True)"
      ],
      "execution_count": null,
      "outputs": []
    },
    {
      "cell_type": "code",
      "metadata": {
        "id": "B0-Q6z7FzbAz",
        "outputId": "31cb2b58-397d-42f8-c1f6-31bef811733e",
        "colab": {
          "base_uri": "https://localhost:8080/",
          "height": 35
        }
      },
      "source": [
        "print(\"Average rating of user 25 = {}\".format(AvgRatingUser[921320]))"
      ],
      "execution_count": null,
      "outputs": [
        {
          "output_type": "stream",
          "text": [
            "Average rating of user 25 = 4.0638297872340425\n"
          ],
          "name": "stdout"
        }
      ]
    },
    {
      "cell_type": "markdown",
      "metadata": {
        "id": "h_n_jg4c0pgw"
      },
      "source": [
        "**Average Rating Per Movie**"
      ]
    },
    {
      "cell_type": "code",
      "metadata": {
        "id": "NY-qCYdgzafK"
      },
      "source": [
        "AvgRatingMovie = getAverageRatings(TrainUISparseData, False)"
      ],
      "execution_count": null,
      "outputs": []
    },
    {
      "cell_type": "code",
      "metadata": {
        "id": "f3s8ofZn0eCj",
        "outputId": "7cf069b0-0fc8-4a55-9600-c34075aa9780",
        "colab": {
          "base_uri": "https://localhost:8080/",
          "height": 35
        }
      },
      "source": [
        "print(\"Average rating of movie 4500 = {}\".format(AvgRatingMovie[4500]))"
      ],
      "execution_count": null,
      "outputs": [
        {
          "output_type": "stream",
          "text": [
            "Average rating of movie 4500 = 3.2831858407079646\n"
          ],
          "name": "stdout"
        }
      ]
    },
    {
      "cell_type": "markdown",
      "metadata": {
        "id": "65gKEbyf09DJ"
      },
      "source": [
        "**PDF and CDF of Average Ratings of Users and Movies**"
      ]
    },
    {
      "cell_type": "code",
      "metadata": {
        "id": "1Bmfz2r10srm",
        "outputId": "3e0fb9a1-fa40-488f-c1c5-f7f16c6d99c9",
        "colab": {
          "base_uri": "https://localhost:8080/",
          "height": 576
        }
      },
      "source": [
        "fig, axes = plt.subplots(nrows = 1, ncols = 2, figsize = (16, 7))\n",
        "fig.suptitle('Avg Ratings per User and per Movie', fontsize=25)\n",
        "\n",
        "user_average = [rats for rats in AvgRatingUser.values()]\n",
        "sns.distplot(user_average, hist = False, ax = axes[0], label = \"PDF\")\n",
        "sns.kdeplot(user_average, cumulative = True, ax = axes[0], label = \"CDF\")\n",
        "axes[0].set_title(\"Average Rating Per User\", fontsize=20)\n",
        "axes[0].tick_params(labelsize = 15)\n",
        "axes[0].legend(loc='upper left', fontsize = 17)\n",
        "\n",
        "movie_average = [ratm for ratm in AvgRatingMovie.values()]\n",
        "sns.distplot(movie_average, hist = False, ax = axes[1], label = \"PDF\")\n",
        "sns.kdeplot(movie_average, cumulative = True, ax = axes[1], label = \"CDF\")\n",
        "axes[1].set_title(\"Average Rating Per Movie\", fontsize=20)\n",
        "axes[1].tick_params(labelsize = 15)\n",
        "axes[1].legend(loc='upper left', fontsize = 17)\n",
        "\n",
        "plt.subplots_adjust(wspace=0.2, top=0.85)\n",
        "plt.show()"
      ],
      "execution_count": null,
      "outputs": [
        {
          "output_type": "stream",
          "text": [
            "/usr/local/lib/python3.6/dist-packages/seaborn/distributions.py:2551: FutureWarning: `distplot` is a deprecated function and will be removed in a future version. Please adapt your code to use either `displot` (a figure-level function with similar flexibility) or `kdeplot` (an axes-level function for kernel density plots).\n",
            "  warnings.warn(msg, FutureWarning)\n",
            "/usr/local/lib/python3.6/dist-packages/seaborn/distributions.py:2551: FutureWarning: `distplot` is a deprecated function and will be removed in a future version. Please adapt your code to use either `displot` (a figure-level function with similar flexibility) or `kdeplot` (an axes-level function for kernel density plots).\n",
            "  warnings.warn(msg, FutureWarning)\n"
          ],
          "name": "stderr"
        },
        {
          "output_type": "display_data",
          "data": {
            "image/png": "[encoded data removed]",
            "text/plain": [
              "<Figure size 1152x504 with 2 Axes>"
            ]
          },
          "metadata": {
            "tags": []
          }
        }
      ]
    },
    {
      "cell_type": "markdown",
      "metadata": {
        "id": "pRjHTnN-1GpP"
      },
      "source": [
        "**Cold Start Problem**"
      ]
    },
    {
      "cell_type": "markdown",
      "metadata": {
        "id": "vTjjHjgo1WgI"
      },
      "source": [
        "**Cold Start Problem with Users**"
      ]
    },
    {
      "cell_type": "code",
      "metadata": {
        "id": "Kds1wHcJ0tPX",
        "outputId": "d3a25302-3d72-47e8-d3dc-d6401609a3af",
        "colab": {
          "base_uri": "https://localhost:8080/",
          "height": 71
        }
      },
      "source": [
        "total_users = len(np.unique(Final_Data[\"CustID\"]))\n",
        "train_users = len(AvgRatingUser)\n",
        "uncommonUsers = total_users - train_users\n",
        "                  \n",
        "print(\"Total number of Users = {}\".format(total_users))\n",
        "print(\"Number of Users in train data= {}\".format(train_users))\n",
        "print(\"Number of Users not present in train data = {}({}%)\".format(uncommonUsers, np.round((uncommonUsers/total_users)*100), 2))"
      ],
      "execution_count": null,
      "outputs": [
        {
          "output_type": "stream",
          "text": [
            "Total number of Users = 476557\n",
            "Number of Users in train data= 398989\n",
            "Number of Users not present in train data = 77568(16.0%)\n"
          ],
          "name": "stdout"
        }
      ]
    },
    {
      "cell_type": "markdown",
      "metadata": {
        "id": "ix6bMiCl1an2"
      },
      "source": [
        "**Cold Start Problem with Movies**"
      ]
    },
    {
      "cell_type": "code",
      "metadata": {
        "id": "xandglXA0tvO",
        "outputId": "1c0a3717-a98e-45d4-8221-1fb4cfdab241",
        "colab": {
          "base_uri": "https://localhost:8080/",
          "height": 71
        }
      },
      "source": [
        "total_movies = len(np.unique(Final_Data[\"MovieID\"]))\n",
        "train_movies = len(AvgRatingMovie)\n",
        "uncommonMovies = total_movies - train_movies\n",
        "                  \n",
        "print(\"Total number of Movies = {}\".format(total_movies))\n",
        "print(\"Number of Movies in train data= {}\".format(train_movies))\n",
        "print(\"Number of Movies not present in train data = {}({}%)\".format(uncommonMovies, np.round((uncommonMovies/total_movies)*100), 2))"
      ],
      "execution_count": null,
      "outputs": [
        {
          "output_type": "stream",
          "text": [
            "Total number of Movies = 5583\n",
            "Number of Movies in train data= 5467\n",
            "Number of Movies not present in train data = 116(2.0%)\n"
          ],
          "name": "stdout"
        }
      ]
    },
    {
      "cell_type": "markdown",
      "metadata": {
        "id": "24miIY7D1p5V"
      },
      "source": [
        "**Computing Similarity Matrices**"
      ]
    },
    {
      "cell_type": "markdown",
      "metadata": {
        "id": "tLDPmno61s_4"
      },
      "source": [
        "**Computing User-User Similarity Matrix**"
      ]
    },
    {
      "cell_type": "code",
      "metadata": {
        "id": "s3OqYmHg0uN5",
        "outputId": "f8f95c3e-b4c9-43aa-951a-d4120f51562f",
        "colab": {
          "base_uri": "https://localhost:8080/",
          "height": 1000
        }
      },
      "source": [
        "row_index, col_index = TrainUISparseData.nonzero()\n",
        "rows = np.unique(row_index)\n",
        "for i in rows[:100]:\n",
        "    print(i)"
      ],
      "execution_count": null,
      "outputs": [
        {
          "output_type": "stream",
          "text": [
            "6\n",
            "7\n",
            "10\n",
            "33\n",
            "42\n",
            "59\n",
            "79\n",
            "83\n",
            "87\n",
            "94\n",
            "97\n",
            "131\n",
            "134\n",
            "142\n",
            "149\n",
            "158\n",
            "168\n",
            "169\n",
            "178\n",
            "183\n",
            "188\n",
            "189\n",
            "192\n",
            "195\n",
            "199\n",
            "201\n",
            "242\n",
            "247\n",
            "248\n",
            "261\n",
            "265\n",
            "266\n",
            "267\n",
            "268\n",
            "283\n",
            "291\n",
            "296\n",
            "298\n",
            "299\n",
            "301\n",
            "302\n",
            "304\n",
            "305\n",
            "307\n",
            "308\n",
            "310\n",
            "312\n",
            "314\n",
            "330\n",
            "331\n",
            "333\n",
            "352\n",
            "363\n",
            "368\n",
            "369\n",
            "379\n",
            "383\n",
            "384\n",
            "385\n",
            "392\n",
            "413\n",
            "416\n",
            "424\n",
            "437\n",
            "439\n",
            "440\n",
            "442\n",
            "453\n",
            "462\n",
            "470\n",
            "471\n",
            "477\n",
            "478\n",
            "481\n",
            "485\n",
            "490\n",
            "491\n",
            "492\n",
            "495\n",
            "508\n",
            "515\n",
            "517\n",
            "527\n",
            "529\n",
            "536\n",
            "540\n",
            "544\n",
            "546\n",
            "550\n",
            "561\n",
            "576\n",
            "585\n",
            "592\n",
            "596\n",
            "602\n",
            "609\n",
            "614\n",
            "616\n",
            "623\n",
            "633\n"
          ],
          "name": "stdout"
        }
      ]
    },
    {
      "cell_type": "code",
      "metadata": {
        "id": "PoZ7_IjU0us_"
      },
      "source": [
        "#Here, we are calculating user-user similarity matrix only for first 60 users in our sparse matrix. And we are calculating \n",
        "#top 60 most similar users with them.\n",
        "def getUser_UserSimilarity(sparseMatrix, top = 60):\n",
        "    startTimestamp20 = datetime.now()  \n",
        "    \n",
        "    row_index, col_index = sparseMatrix.nonzero()  \n",
        "    rows = np.unique(row_index)\n",
        "    similarMatrix = np.zeros(37020).reshape(617,60)    \n",
        "    timeTaken = []\n",
        "    howManyDone = 0\n",
        "    for row in rows[:top]:\n",
        "        howManyDone += 1\n",
        "        startTimestamp = datetime.now().timestamp()  \n",
        "        sim = cosine_similarity(sparseMatrix.getrow(row), sparseMatrix).ravel()\n",
        "        top100_similar_indices = sim.argsort()[-top:]\n",
        "        top100_similar = sim[top100_similar_indices]\n",
        "        similarMatrix[row] = top100_similar\n",
        "        timeforOne = datetime.now().timestamp() - startTimestamp\n",
        "        timeTaken.append(timeforOne)\n",
        "        if howManyDone % 20 == 0:\n",
        "            print(\"Time elapsed for {} users = {}sec\".format(howManyDone, (datetime.now() - startTimestamp20)))\n",
        "    print(\"Average Time taken to compute similarity matrix for 1 user = \"+str(sum(timeTaken)/len(timeTaken))+\"seconds\")\n",
        "    \n",
        "    fig = plt.figure(figsize = (12,8))\n",
        "    plt.plot(timeTaken, label = 'Time Taken For Each User')\n",
        "    plt.plot(np.cumsum(timeTaken), label='Cumulative Time')\n",
        "    plt.legend(loc='upper left', fontsize = 15)\n",
        "    plt.xlabel('Users', fontsize = 20)\n",
        "    plt.ylabel('Time(Seconds)', fontsize = 20)\n",
        "    plt.tick_params(labelsize = 15)\n",
        "    plt.show()\n",
        "    \n",
        "    return similarMatrix"
      ],
      "execution_count": null,
      "outputs": []
    },
    {
      "cell_type": "code",
      "metadata": {
        "id": "WlEx_JoN0vNd",
        "outputId": "0dd4a847-cb1a-4307-84c2-a4d4317b8f58",
        "colab": {
          "base_uri": "https://localhost:8080/",
          "height": 583
        }
      },
      "source": [
        "simMatrix = getUser_UserSimilarity(TrainUISparseData, 60)"
      ],
      "execution_count": null,
      "outputs": [
        {
          "output_type": "stream",
          "text": [
            "Time elapsed for 20 users = 0:00:22.229669sec\n",
            "Time elapsed for 40 users = 0:00:43.005836sec\n",
            "Time elapsed for 60 users = 0:01:03.008401sec\n",
            "Average Time taken to compute similarity matrix for 1 user = 1.0321141282717388seconds\n"
          ],
          "name": "stdout"
        },
        {
          "output_type": "display_data",
          "data": {
            "image/png": "[encoded data removed]",
            "text/plain": [
              "<Figure size 864x576 with 1 Axes>"
            ]
          },
          "metadata": {
            "tags": []
          }
        }
      ]
    },
    {
      "cell_type": "markdown",
      "metadata": {
        "id": "gnu1lBqa19YU"
      },
      "source": [
        "**Computing Movie-Movie Similarity Matrix**"
      ]
    },
    {
      "cell_type": "code",
      "metadata": {
        "id": "p77W-Nqp0vxz",
        "outputId": "70e41471-f946-4869-a770-6980b57ab843",
        "colab": {
          "base_uri": "https://localhost:8080/",
          "height": 107
        }
      },
      "source": [
        "start = datetime.now()\n",
        "\n",
        "if not os.path.isfile(\"m_m_similarity.npz\"):\n",
        "    print(\"Movie-Movie Similarity file does not exist in your disk. Creating Movie-Movie Similarity Matrix...\")\n",
        "    \n",
        "    m_m_similarity = cosine_similarity(TrainUISparseData.T, dense_output = False)\n",
        "    print(\"Done\")\n",
        "    print(\"Dimension of Matrix = {}\".format(m_m_similarity.shape))\n",
        "    print(\"Storing the Movie Similarity matrix on disk for further usage\")\n",
        "    sparse.save_npz(\"m_m_similarity.npz\", m_m_similarity)\n",
        "else:\n",
        "    print(\"File exists in the disk. Loading the file...\")\n",
        "    m_m_similarity = sparse.load_npz(\"m_m_similarity.npz\")\n",
        "    print(\"Dimension of Matrix = {}\".format(m_m_similarity.shape))\n",
        "    \n",
        "print(datetime.now() - start)"
      ],
      "execution_count": null,
      "outputs": [
        {
          "output_type": "stream",
          "text": [
            "Movie-Movie Similarity file does not exist in your disk. Creating Movie-Movie Similarity Matrix...\n",
            "Done\n",
            "Dimension of Matrix = (16119, 16119)\n",
            "Storing the Movie Similarity matrix on disk for further usage\n",
            "0:01:02.188521\n"
          ],
          "name": "stdout"
        }
      ]
    },
    {
      "cell_type": "markdown",
      "metadata": {
        "id": "J0z_I55-2Iju"
      },
      "source": [
        "**Does Movie-Movie Similarity Works?**"
      ]
    },
    {
      "cell_type": "markdown",
      "metadata": {
        "id": "ScGvxpAE2Lpg"
      },
      "source": [
        "**Let's pick random movie and check it's top 10 most similar movies.**"
      ]
    },
    {
      "cell_type": "code",
      "metadata": {
        "id": "zN_6LkqS0wiX"
      },
      "source": [
        "movie_ids = np.unique(m_m_similarity.nonzero())"
      ],
      "execution_count": null,
      "outputs": []
    },
    {
      "cell_type": "code",
      "metadata": {
        "id": "yPTweb290xHE"
      },
      "source": [
        "similar_movies_dict = dict()\n",
        "for movie in movie_ids:\n",
        "    smlr = np.argsort(-m_m_similarity[movie].toarray().ravel())[1:100]\n",
        "    similar_movies_dict[movie] = smlr"
      ],
      "execution_count": null,
      "outputs": []
    },
    {
      "cell_type": "code",
      "metadata": {
        "id": "qtBVwqio0xpr"
      },
      "source": [
        "movie_titles_df = pd.read_csv(\"movie_titles.csv\",sep = \",\", header = None, names=['MovieID', 'Year_of_Release', 'Movie_Title'], index_col = \"MovieID\", encoding = \"iso8859_2\")"
      ],
      "execution_count": null,
      "outputs": []
    },
    {
      "cell_type": "code",
      "metadata": {
        "id": "VI1CP6Zs0yIh",
        "outputId": "7ee429e2-ea20-4745-82fb-d6c40c9ff5f2",
        "colab": {
          "base_uri": "https://localhost:8080/",
          "height": 235
        }
      },
      "source": [
        "movie_titles_df.head()"
      ],
      "execution_count": null,
      "outputs": [
        {
          "output_type": "execute_result",
          "data": {
            "text/html": [
              "<div>\n",
              "<style scoped>\n",
              "    .dataframe tbody tr th:only-of-type {\n",
              "        vertical-align: middle;\n",
              "    }\n",
              "\n",
              "    .dataframe tbody tr th {\n",
              "        vertical-align: top;\n",
              "    }\n",
              "\n",
              "    .dataframe thead th {\n",
              "        text-align: right;\n",
              "    }\n",
              "</style>\n",
              "<table border=\"1\" class=\"dataframe\">\n",
              "  <thead>\n",
              "    <tr style=\"text-align: right;\">\n",
              "      <th></th>\n",
              "      <th>Year_of_Release</th>\n",
              "      <th>Movie_Title</th>\n",
              "    </tr>\n",
              "    <tr>\n",
              "      <th>MovieID</th>\n",
              "      <th></th>\n",
              "      <th></th>\n",
              "    </tr>\n",
              "  </thead>\n",
              "  <tbody>\n",
              "    <tr>\n",
              "      <th>1</th>\n",
              "      <td>2003.0</td>\n",
              "      <td>Dinosaur Planet</td>\n",
              "    </tr>\n",
              "    <tr>\n",
              "      <th>2</th>\n",
              "      <td>2004.0</td>\n",
              "      <td>Isle of Man TT 2004 Review</td>\n",
              "    </tr>\n",
              "    <tr>\n",
              "      <th>3</th>\n",
              "      <td>1997.0</td>\n",
              "      <td>Character</td>\n",
              "    </tr>\n",
              "    <tr>\n",
              "      <th>4</th>\n",
              "      <td>1994.0</td>\n",
              "      <td>Paula Abdul's Get Up &amp; Dance</td>\n",
              "    </tr>\n",
              "    <tr>\n",
              "      <th>5</th>\n",
              "      <td>2004.0</td>\n",
              "      <td>The Rise and Fall of ECW</td>\n",
              "    </tr>\n",
              "  </tbody>\n",
              "</table>\n",
              "</div>"
            ],
            "text/plain": [
              "         Year_of_Release                   Movie_Title\n",
              "MovieID                                               \n",
              "1                 2003.0               Dinosaur Planet\n",
              "2                 2004.0    Isle of Man TT 2004 Review\n",
              "3                 1997.0                     Character\n",
              "4                 1994.0  Paula Abdul's Get Up & Dance\n",
              "5                 2004.0      The Rise and Fall of ECW"
            ]
          },
          "metadata": {
            "tags": []
          },
          "execution_count": 88
        }
      ]
    },
    {
      "cell_type": "markdown",
      "metadata": {
        "id": "b--VRwpE2xaV"
      },
      "source": [
        "**Similar Movies to: Godzilla's Revenge**"
      ]
    },
    {
      "cell_type": "code",
      "metadata": {
        "id": "2dPIeJKk0yrl",
        "outputId": "e5da57d2-c627-488e-d608-3b95b97793a8",
        "colab": {
          "base_uri": "https://localhost:8080/",
          "height": 71
        }
      },
      "source": [
        "movieID_GR = 14660\n",
        "\n",
        "print(\"Name of the movie -------> \"+str(movie_titles_df.loc[movieID_GR][1]))\n",
        "\n",
        "print(\"Number of ratings by users for movie {} is {}\".format(movie_titles_df.loc[movieID_GR][1], TrainUISparseData[:,movieID_GR].getnnz()))\n",
        "\n",
        "print(\"Number of similar movies to {} is {}\".format(movie_titles_df.loc[movieID_GR][1], m_m_similarity[movieID_GR].count_nonzero()))"
      ],
      "execution_count": null,
      "outputs": [
        {
          "output_type": "stream",
          "text": [
            "Name of the movie -------> The Waterboy\n",
            "Number of ratings by users for movie The Waterboy is 83696\n",
            "Number of similar movies to The Waterboy is 5453\n"
          ],
          "name": "stdout"
        }
      ]
    },
    {
      "cell_type": "code",
      "metadata": {
        "id": "1LAWfbVP0zMj"
      },
      "source": [
        "all_similar = sorted(m_m_similarity[movieID_GR].toarray().ravel(), reverse = True)[1:]\n",
        "\n",
        "similar_100 = all_similar[:101]"
      ],
      "execution_count": null,
      "outputs": []
    },
    {
      "cell_type": "code",
      "metadata": {
        "id": "TqsCICNn0zu1",
        "outputId": "120f7740-cbc5-4ac5-cced-0d0bf2496a2a",
        "colab": {
          "base_uri": "https://localhost:8080/",
          "height": 513
        }
      },
      "source": [
        "plt.figure(figsize = (10, 8))\n",
        "plt.plot(all_similar, label = \"All Similar\")\n",
        "plt.plot(similar_100, label = \"Top 100 Similar Movies\")\n",
        "plt.title(\"Similar Movies to The Waterboy\", fontsize = 25)\n",
        "plt.ylabel(\"Cosine Similarity Values\", fontsize = 20)\n",
        "plt.tick_params(labelsize = 15)\n",
        "plt.legend(fontsize = 20)\n",
        "plt.show()"
      ],
      "execution_count": null,
      "outputs": [
        {
          "output_type": "display_data",
          "data": {
            "image/png": "[encoded data removed]",
            "text/plain": [
              "<Figure size 720x576 with 1 Axes>"
            ]
          },
          "metadata": {
            "tags": []
          }
        }
      ]
    },
    {
      "cell_type": "markdown",
      "metadata": {
        "id": "hI49FZiS2enT"
      },
      "source": [
        "**Top 10 Similar Movies to: The Waterboy**"
      ]
    },
    {
      "cell_type": "code",
      "metadata": {
        "id": "QMSr7SMr00Pb",
        "outputId": "5007a7f1-fc3d-4154-a278-13e190af1be3",
        "colab": {
          "base_uri": "https://localhost:8080/",
          "height": 390
        }
      },
      "source": [
        "movie_titles_df.loc[similar_movies_dict[movieID_GR][:10]]"
      ],
      "execution_count": null,
      "outputs": [
        {
          "output_type": "execute_result",
          "data": {
            "text/html": [
              "<div>\n",
              "<style scoped>\n",
              "    .dataframe tbody tr th:only-of-type {\n",
              "        vertical-align: middle;\n",
              "    }\n",
              "\n",
              "    .dataframe tbody tr th {\n",
              "        vertical-align: top;\n",
              "    }\n",
              "\n",
              "    .dataframe thead th {\n",
              "        text-align: right;\n",
              "    }\n",
              "</style>\n",
              "<table border=\"1\" class=\"dataframe\">\n",
              "  <thead>\n",
              "    <tr style=\"text-align: right;\">\n",
              "      <th></th>\n",
              "      <th>Year_of_Release</th>\n",
              "      <th>Movie_Title</th>\n",
              "    </tr>\n",
              "    <tr>\n",
              "      <th>MovieID</th>\n",
              "      <th></th>\n",
              "      <th></th>\n",
              "    </tr>\n",
              "  </thead>\n",
              "  <tbody>\n",
              "    <tr>\n",
              "      <th>15393</th>\n",
              "      <td>1999.0</td>\n",
              "      <td>Big Daddy</td>\n",
              "    </tr>\n",
              "    <tr>\n",
              "      <th>5318</th>\n",
              "      <td>1995.0</td>\n",
              "      <td>Tommy Boy</td>\n",
              "    </tr>\n",
              "    <tr>\n",
              "      <th>14725</th>\n",
              "      <td>1999.0</td>\n",
              "      <td>Austin Powers: The Spy Who Shagged Me</td>\n",
              "    </tr>\n",
              "    <tr>\n",
              "      <th>5628</th>\n",
              "      <td>1996.0</td>\n",
              "      <td>The Nutty Professor</td>\n",
              "    </tr>\n",
              "    <tr>\n",
              "      <th>6833</th>\n",
              "      <td>1995.0</td>\n",
              "      <td>Billy Madison</td>\n",
              "    </tr>\n",
              "    <tr>\n",
              "      <th>4661</th>\n",
              "      <td>1999.0</td>\n",
              "      <td>Deuce Bigalow: Male Gigolo</td>\n",
              "    </tr>\n",
              "    <tr>\n",
              "      <th>6971</th>\n",
              "      <td>1986.0</td>\n",
              "      <td>Ferris Bueller's Day Off</td>\n",
              "    </tr>\n",
              "    <tr>\n",
              "      <th>6844</th>\n",
              "      <td>2001.0</td>\n",
              "      <td>The Fast and the Furious</td>\n",
              "    </tr>\n",
              "    <tr>\n",
              "      <th>6350</th>\n",
              "      <td>1998.0</td>\n",
              "      <td>Rush Hour</td>\n",
              "    </tr>\n",
              "    <tr>\n",
              "      <th>15124</th>\n",
              "      <td>1996.0</td>\n",
              "      <td>Independence Day</td>\n",
              "    </tr>\n",
              "  </tbody>\n",
              "</table>\n",
              "</div>"
            ],
            "text/plain": [
              "         Year_of_Release                            Movie_Title\n",
              "MovieID                                                        \n",
              "15393             1999.0                              Big Daddy\n",
              "5318              1995.0                              Tommy Boy\n",
              "14725             1999.0  Austin Powers: The Spy Who Shagged Me\n",
              "5628              1996.0                    The Nutty Professor\n",
              "6833              1995.0                          Billy Madison\n",
              "4661              1999.0             Deuce Bigalow: Male Gigolo\n",
              "6971              1986.0               Ferris Bueller's Day Off\n",
              "6844              2001.0               The Fast and the Furious\n",
              "6350              1998.0                              Rush Hour\n",
              "15124             1996.0                       Independence Day"
            ]
          },
          "metadata": {
            "tags": []
          },
          "execution_count": 97
        }
      ]
    },
    {
      "cell_type": "markdown",
      "metadata": {
        "id": "Fo3l2YUL21qJ"
      },
      "source": [
        "**Machine Learning Models**"
      ]
    },
    {
      "cell_type": "code",
      "metadata": {
        "id": "rf9QHY_C00tq"
      },
      "source": [
        "def get_sample_sparse_matrix(sparseMatrix, n_users, n_movies):\n",
        "    startTime = datetime.now()\n",
        "    users, movies, ratings = sparse.find(sparseMatrix)\n",
        "    uniq_users = np.unique(users)\n",
        "    uniq_movies = np.unique(movies)\n",
        "    np.random.seed(15)   \n",
        "    userS = np.random.choice(uniq_users, n_users, replace = False)\n",
        "    movieS = np.random.choice(uniq_movies, n_movies, replace = False)\n",
        "    mask = np.logical_and(np.isin(users, userS), np.isin(movies, movieS))\n",
        "    sparse_sample = sparse.csr_matrix((ratings[mask], (users[mask], movies[mask])), \n",
        "                                                     shape = (max(userS)+1, max(movieS)+1))\n",
        "    print(\"Sparse Matrix creation done. Saving it for later use.\")\n",
        "    sparse.save_npz(path, sparse_sample)\n",
        "    print(\"Done\")\n",
        "    print(\"Shape of Sparse Sampled Matrix = \"+str(sparse_sample.shape))\n",
        "    \n",
        "    print(datetime.now() - start)\n",
        "    return sparse_sample"
      ],
      "execution_count": null,
      "outputs": []
    },
    {
      "cell_type": "markdown",
      "metadata": {
        "id": "r4vYLtzqOp9g"
      },
      "source": [
        "**Creating Sample Sparse Matrix for Train Data**"
      ]
    },
    {
      "cell_type": "code",
      "metadata": {
        "id": "dGvwP6ZA01Yd",
        "outputId": "1e21f757-19f1-49a0-807c-35b204084f80",
        "colab": {
          "base_uri": "https://localhost:8080/",
          "height": 107
        }
      },
      "source": [
        "path = \"TrainUISparseData_Sample.npz\"\n",
        "if not os.path.isfile(path):\n",
        "    print(\"Sample sparse matrix is not present in the disk. We are creating it...\")\n",
        "    train_sample_sparse = get_sample_sparse_matrix(TrainUISparseData, 4000, 400)\n",
        "else:\n",
        "    print(\"File is already present in the disk. Loading the file...\")\n",
        "    train_sample_sparse = sparse.load_npz(path)\n",
        "    print(\"File loading done.\")\n",
        "    print(\"Shape of Train Sample Sparse Matrix = \"+str(train_sample_sparse.shape))"
      ],
      "execution_count": null,
      "outputs": [
        {
          "output_type": "stream",
          "text": [
            "Sample sparse matrix is not present in the disk. We are creating it...\n",
            "Sparse Matrix creation done. Saving it for later use.\n",
            "Done\n",
            "Shape of Sparse Sampled Matrix = (2649405, 16108)\n",
            "0:07:46.954156\n"
          ],
          "name": "stdout"
        }
      ]
    },
    {
      "cell_type": "markdown",
      "metadata": {
        "id": "Nq0rHY-EOxuq"
      },
      "source": [
        "**Creating Sample Sparse Matrix for Test Data**"
      ]
    },
    {
      "cell_type": "code",
      "metadata": {
        "id": "h7PaI7AK017B",
        "outputId": "5753f88d-14ec-4324-c12c-277c524bfc26",
        "colab": {
          "base_uri": "https://localhost:8080/",
          "height": 107
        }
      },
      "source": [
        "path = \"TestUISparseData_Sample.npz\"\n",
        "if not os.path.isfile(path):\n",
        "    print(\"Sample sparse matrix is not present in the disk. We are creating it...\")\n",
        "    test_sample_sparse = get_sample_sparse_matrix(TestUISparseData, 2000, 200)\n",
        "else:\n",
        "    print(\"File is already present in the disk. Loading the file...\")\n",
        "    test_sample_sparse = sparse.load_npz(path)\n",
        "    print(\"File loading done.\")\n",
        "    print(\"Shape of Test Sample Sparse Matrix = \"+str(test_sample_sparse.shape))"
      ],
      "execution_count": null,
      "outputs": [
        {
          "output_type": "stream",
          "text": [
            "Sample sparse matrix is not present in the disk. We are creating it...\n",
            "Sparse Matrix creation done. Saving it for later use.\n",
            "Done\n",
            "Shape of Sparse Sampled Matrix = (2648584, 16109)\n",
            "0:08:43.312968\n"
          ],
          "name": "stdout"
        }
      ]
    },
    {
      "cell_type": "markdown",
      "metadata": {
        "id": "wGZ5Qm4kO4pB"
      },
      "source": [
        "**Finding Global Average of all movie ratings, Average rating per User, and Average rating per Movie (from sampled train)**"
      ]
    },
    {
      "cell_type": "code",
      "metadata": {
        "id": "9QkQlE4y02Uy",
        "outputId": "01519b8d-e829-4970-c810-40eff2cb7d69",
        "colab": {
          "base_uri": "https://localhost:8080/",
          "height": 35
        }
      },
      "source": [
        "print(\"Global average of all movies ratings in Train Sample Sparse is {}\".format(np.round((train_sample_sparse.sum()/train_sample_sparse.count_nonzero()), 2)))"
      ],
      "execution_count": null,
      "outputs": [
        {
          "output_type": "stream",
          "text": [
            "Global average of all movies ratings in Train Sample Sparse is 3.61\n"
          ],
          "name": "stdout"
        }
      ]
    },
    {
      "cell_type": "markdown",
      "metadata": {
        "id": "kp8EC4G5O7i7"
      },
      "source": [
        "**Finding Average of all movie ratings**"
      ]
    },
    {
      "cell_type": "code",
      "metadata": {
        "id": "I9AXhced02vT",
        "outputId": "67e91998-051f-46dc-fb65-6bd6c8e44d3f",
        "colab": {
          "base_uri": "https://localhost:8080/",
          "height": 35
        }
      },
      "source": [
        "globalAvgMovies = getAverageRatings(train_sample_sparse, False)\n",
        "print(\"Average move rating for movie 6007 is {}\".format(globalAvgMovies[6007]))"
      ],
      "execution_count": null,
      "outputs": [
        {
          "output_type": "stream",
          "text": [
            "Average move rating for movie 6007 is 4.298611111111111\n"
          ],
          "name": "stdout"
        }
      ]
    },
    {
      "cell_type": "markdown",
      "metadata": {
        "id": "LRDt93JxPAwG"
      },
      "source": [
        "**Finding Average rating per User**"
      ]
    },
    {
      "cell_type": "code",
      "metadata": {
        "id": "DM_knbfJ03a7",
        "outputId": "2ae6f8be-e486-4be5-caa1-c1fc398ae57d",
        "colab": {
          "base_uri": "https://localhost:8080/",
          "height": 35
        }
      },
      "source": [
        "globalAvgUsers = getAverageRatings(train_sample_sparse, True)\n",
        "print(\"Average user rating for user 16879 is {}\".format(globalAvgMovies[6007]))"
      ],
      "execution_count": null,
      "outputs": [
        {
          "output_type": "stream",
          "text": [
            "Average user rating for user 16879 is 4.298611111111111\n"
          ],
          "name": "stdout"
        }
      ]
    },
    {
      "cell_type": "markdown",
      "metadata": {
        "id": "YnOPlL1bPHMQ"
      },
      "source": [
        "**Featurizing data**"
      ]
    },
    {
      "cell_type": "code",
      "metadata": {
        "id": "aIF8kmsA04FL",
        "outputId": "44994732-f762-4168-8b92-f03ff5d1401b",
        "colab": {
          "base_uri": "https://localhost:8080/",
          "height": 53
        }
      },
      "source": [
        "print(\"No of ratings in Our Sampled train matrix is : {}\".format(train_sample_sparse.count_nonzero()))\n",
        "print(\"No of ratings in Our Sampled test matrix is : {}\".format(test_sample_sparse.count_nonzero()))"
      ],
      "execution_count": null,
      "outputs": [
        {
          "output_type": "stream",
          "text": [
            "No of ratings in Our Sampled train matrix is : 22592\n",
            "No of ratings in Our Sampled test matrix is : 1575\n"
          ],
          "name": "stdout"
        }
      ]
    },
    {
      "cell_type": "markdown",
      "metadata": {
        "id": "iO0M1EPpPQOk"
      },
      "source": [
        "**Featurizing data for regression problem**"
      ]
    },
    {
      "cell_type": "markdown",
      "metadata": {
        "id": "QmmQvGcEPTHS"
      },
      "source": [
        "**Featurizing Train Data**"
      ]
    },
    {
      "cell_type": "code",
      "metadata": {
        "id": "2i7JcQ4E03xe"
      },
      "source": [
        "sample_train_users, sample_train_movies, sample_train_ratings = sparse.find(train_sample_sparse)"
      ],
      "execution_count": null,
      "outputs": []
    },
    {
      "cell_type": "code",
      "metadata": {
        "id": "YDrws3d803F2",
        "outputId": "16dd9c31-4e40-467f-c030-886fada80838",
        "colab": {
          "base_uri": "https://localhost:8080/",
          "height": 251
        }
      },
      "source": [
        "if os.path.isfile(\"Train_Regression.csv\"):\n",
        "    print(\"File is already present in your disk. You do not have to prepare it again.\")\n",
        "else:\n",
        "    startTime = datetime.now()\n",
        "    print(\"Preparing Train csv file for {} rows\".format(len(sample_train_ratings)))\n",
        "    with open(\"Train_Regression.csv\", mode = \"w\") as data:\n",
        "        count = 0\n",
        "        for user, movie, rating in zip(sample_train_users, sample_train_movies, sample_train_ratings):\n",
        "            row = list()\n",
        "            row.append(user)  \n",
        "            row.append(movie) \n",
        "            row.append(train_sample_sparse.sum()/train_sample_sparse.count_nonzero()) #appending global average rating\n",
        "\n",
        "#Ratings given to \"movie\" by top 5 similar users with \"user\"\n",
        "            similar_users = cosine_similarity(train_sample_sparse[user], train_sample_sparse).ravel()\n",
        "            similar_users_indices = np.argsort(-similar_users)[1:]\n",
        "            similar_users_ratings = train_sample_sparse[similar_users_indices, movie].toarray().ravel()\n",
        "            top_similar_user_ratings = list(similar_users_ratings[similar_users_ratings != 0][:5])\n",
        "            top_similar_user_ratings.extend([globalAvgMovies[movie]]*(5-len(top_similar_user_ratings)))\n",
        "            row.extend(top_similar_user_ratings)\n",
        "            \n",
        " #Ratings given by \"user\" to top 5 similar movies with \"movie\"\n",
        "            similar_movies = cosine_similarity(train_sample_sparse[:,movie].T, train_sample_sparse.T).ravel()\n",
        "            similar_movies_indices = np.argsort(-similar_movies)[1:]\n",
        "            similar_movies_ratings = train_sample_sparse[user, similar_movies_indices].toarray().ravel()\n",
        "            top_similar_movie_ratings = list(similar_movies_ratings[similar_movies_ratings != 0][:5])\n",
        "            top_similar_movie_ratings.extend([globalAvgUsers[user]]*(5-len(top_similar_movie_ratings)))\n",
        "            row.extend(top_similar_movie_ratings)\n",
        "            \n",
        " #Appending \"user\" average, \"movie\" average & rating of \"user\"\"movie\"\n",
        "            row.append(globalAvgUsers[user])\n",
        "            row.append(globalAvgMovies[movie])\n",
        "            row.append(rating)\n",
        "            \n",
        "#Converting rows and appending them as comma separated values to csv file\n",
        "            data.write(\",\".join(map(str, row)))\n",
        "            data.write(\"\\n\")\n",
        "    \n",
        "            count += 1\n",
        "            if count % 2000 == 0:\n",
        "                print(\"Done for {}. Time elapsed: {}\".format(count, (datetime.now() - startTime)))\n",
        "                \n",
        "    print(\"Total Time for {} rows = {}\".format(len(sample_train_ratings), (datetime.now() - startTime)))"
      ],
      "execution_count": null,
      "outputs": [
        {
          "output_type": "stream",
          "text": [
            "Preparing Train csv file for 22592 rows\n",
            "Done for 2000. Time elapsed: 0:06:33.700922\n",
            "Done for 4000. Time elapsed: 0:13:00.886032\n",
            "Done for 6000. Time elapsed: 0:19:26.346143\n",
            "Done for 8000. Time elapsed: 0:25:54.186842\n",
            "Done for 10000. Time elapsed: 0:32:36.172063\n",
            "Done for 12000. Time elapsed: 0:39:15.012551\n",
            "Done for 14000. Time elapsed: 0:46:03.555869\n",
            "Done for 16000. Time elapsed: 0:52:48.887253\n",
            "Done for 18000. Time elapsed: 0:59:30.883046\n",
            "Done for 20000. Time elapsed: 1:06:07.458864\n",
            "Done for 22000. Time elapsed: 1:12:40.312736\n",
            "Total Time for 22592 rows = 1:14:35.445149\n"
          ],
          "name": "stdout"
        }
      ]
    },
    {
      "cell_type": "code",
      "metadata": {
        "id": "Pc82B4hr02ft",
        "outputId": "29d5d82e-1576-4dc1-9f38-4fd818dfee24",
        "colab": {
          "base_uri": "https://localhost:8080/",
          "height": 204
        }
      },
      "source": [
        "Train_Reg = pd.read_csv(\"Train_Regression.csv\", names = [\"User_ID\", \"Movie_ID\", \"Global_Average\", \"SUR1\", \"SUR2\", \"SUR3\", \"SUR4\", \"SUR5\", \"SMR1\", \"SMR2\", \"SMR3\", \"SMR4\", \"SMR5\", \"User_Average\", \"Movie_Average\", \"Rating\"])\n",
        "Train_Reg.head()"
      ],
      "execution_count": null,
      "outputs": [
        {
          "output_type": "execute_result",
          "data": {
            "text/html": [
              "<div>\n",
              "<style scoped>\n",
              "    .dataframe tbody tr th:only-of-type {\n",
              "        vertical-align: middle;\n",
              "    }\n",
              "\n",
              "    .dataframe tbody tr th {\n",
              "        vertical-align: top;\n",
              "    }\n",
              "\n",
              "    .dataframe thead th {\n",
              "        text-align: right;\n",
              "    }\n",
              "</style>\n",
              "<table border=\"1\" class=\"dataframe\">\n",
              "  <thead>\n",
              "    <tr style=\"text-align: right;\">\n",
              "      <th></th>\n",
              "      <th>User_ID</th>\n",
              "      <th>Movie_ID</th>\n",
              "      <th>Global_Average</th>\n",
              "      <th>SUR1</th>\n",
              "      <th>SUR2</th>\n",
              "      <th>SUR3</th>\n",
              "      <th>SUR4</th>\n",
              "      <th>SUR5</th>\n",
              "      <th>SMR1</th>\n",
              "      <th>SMR2</th>\n",
              "      <th>SMR3</th>\n",
              "      <th>SMR4</th>\n",
              "      <th>SMR5</th>\n",
              "      <th>User_Average</th>\n",
              "      <th>Movie_Average</th>\n",
              "      <th>Rating</th>\n",
              "    </tr>\n",
              "  </thead>\n",
              "  <tbody>\n",
              "    <tr>\n",
              "      <th>0</th>\n",
              "      <td>2630</td>\n",
              "      <td>4546</td>\n",
              "      <td>3.609641</td>\n",
              "      <td>4.0</td>\n",
              "      <td>5.0</td>\n",
              "      <td>3.0</td>\n",
              "      <td>3.0</td>\n",
              "      <td>3.0</td>\n",
              "      <td>3.0</td>\n",
              "      <td>3.0</td>\n",
              "      <td>2.0</td>\n",
              "      <td>3.0</td>\n",
              "      <td>3.0</td>\n",
              "      <td>3.000000</td>\n",
              "      <td>3.450495</td>\n",
              "      <td>4.0</td>\n",
              "    </tr>\n",
              "    <tr>\n",
              "      <th>1</th>\n",
              "      <td>14827</td>\n",
              "      <td>4546</td>\n",
              "      <td>3.609641</td>\n",
              "      <td>4.0</td>\n",
              "      <td>5.0</td>\n",
              "      <td>4.0</td>\n",
              "      <td>4.0</td>\n",
              "      <td>4.0</td>\n",
              "      <td>2.0</td>\n",
              "      <td>3.0</td>\n",
              "      <td>3.0</td>\n",
              "      <td>3.0</td>\n",
              "      <td>3.0</td>\n",
              "      <td>3.000000</td>\n",
              "      <td>3.450495</td>\n",
              "      <td>4.0</td>\n",
              "    </tr>\n",
              "    <tr>\n",
              "      <th>2</th>\n",
              "      <td>18843</td>\n",
              "      <td>4546</td>\n",
              "      <td>3.609641</td>\n",
              "      <td>3.0</td>\n",
              "      <td>3.0</td>\n",
              "      <td>4.0</td>\n",
              "      <td>3.0</td>\n",
              "      <td>4.0</td>\n",
              "      <td>4.0</td>\n",
              "      <td>4.0</td>\n",
              "      <td>3.0</td>\n",
              "      <td>3.0</td>\n",
              "      <td>4.0</td>\n",
              "      <td>3.714286</td>\n",
              "      <td>3.450495</td>\n",
              "      <td>4.0</td>\n",
              "    </tr>\n",
              "    <tr>\n",
              "      <th>3</th>\n",
              "      <td>28172</td>\n",
              "      <td>4546</td>\n",
              "      <td>3.609641</td>\n",
              "      <td>3.0</td>\n",
              "      <td>5.0</td>\n",
              "      <td>3.0</td>\n",
              "      <td>3.0</td>\n",
              "      <td>2.0</td>\n",
              "      <td>4.0</td>\n",
              "      <td>4.0</td>\n",
              "      <td>4.0</td>\n",
              "      <td>4.0</td>\n",
              "      <td>4.0</td>\n",
              "      <td>3.636364</td>\n",
              "      <td>3.450495</td>\n",
              "      <td>3.0</td>\n",
              "    </tr>\n",
              "    <tr>\n",
              "      <th>4</th>\n",
              "      <td>31375</td>\n",
              "      <td>4546</td>\n",
              "      <td>3.609641</td>\n",
              "      <td>2.0</td>\n",
              "      <td>3.0</td>\n",
              "      <td>3.0</td>\n",
              "      <td>4.0</td>\n",
              "      <td>3.0</td>\n",
              "      <td>4.0</td>\n",
              "      <td>2.5</td>\n",
              "      <td>2.5</td>\n",
              "      <td>2.5</td>\n",
              "      <td>2.5</td>\n",
              "      <td>2.500000</td>\n",
              "      <td>3.450495</td>\n",
              "      <td>1.0</td>\n",
              "    </tr>\n",
              "  </tbody>\n",
              "</table>\n",
              "</div>"
            ],
            "text/plain": [
              "   User_ID  Movie_ID  Global_Average  ...  User_Average  Movie_Average  Rating\n",
              "0     2630      4546        3.609641  ...      3.000000       3.450495     4.0\n",
              "1    14827      4546        3.609641  ...      3.000000       3.450495     4.0\n",
              "2    18843      4546        3.609641  ...      3.714286       3.450495     4.0\n",
              "3    28172      4546        3.609641  ...      3.636364       3.450495     3.0\n",
              "4    31375      4546        3.609641  ...      2.500000       3.450495     1.0\n",
              "\n",
              "[5 rows x 16 columns]"
            ]
          },
          "metadata": {
            "tags": []
          },
          "execution_count": 135
        }
      ]
    },
    {
      "cell_type": "code",
      "metadata": {
        "id": "ABfML_gm02H-",
        "outputId": "91356b62-fd02-4227-b6bc-2b49883142e7",
        "colab": {
          "base_uri": "https://localhost:8080/",
          "height": 35
        }
      },
      "source": [
        "print(\"Number of nan Values = \"+str(Train_Reg.isnull().sum().sum()))"
      ],
      "execution_count": null,
      "outputs": [
        {
          "output_type": "stream",
          "text": [
            "Number of nan Values = 0\n"
          ],
          "name": "stdout"
        }
      ]
    },
    {
      "cell_type": "code",
      "metadata": {
        "id": "qKrXR9m801p8",
        "outputId": "e8aa1ed6-4f2e-4401-a377-e7f4d955d094",
        "colab": {
          "base_uri": "https://localhost:8080/",
          "height": 35
        }
      },
      "source": [
        "print(\"Shape of Train DataFrame = {}\".format(Train_Reg.shape))"
      ],
      "execution_count": null,
      "outputs": [
        {
          "output_type": "stream",
          "text": [
            "Shape of Train DataFrame = (22592, 16)\n"
          ],
          "name": "stdout"
        }
      ]
    },
    {
      "cell_type": "markdown",
      "metadata": {
        "id": "fzouY4ZrPpXs"
      },
      "source": [
        "**Featurizing Test Data**"
      ]
    },
    {
      "cell_type": "code",
      "metadata": {
        "id": "4LLX1_i8008b"
      },
      "source": [
        "sample_test_users, sample_test_movies, sample_test_ratings = sparse.find(test_sample_sparse)"
      ],
      "execution_count": null,
      "outputs": []
    },
    {
      "cell_type": "code",
      "metadata": {
        "id": "tVMT_fd_00gv",
        "outputId": "c0b7b8e2-de00-4615-8062-94868b83f92a",
        "colab": {
          "base_uri": "https://localhost:8080/",
          "height": 323
        }
      },
      "source": [
        "if os.path.isfile(\"Test_Regression.csv\"):\n",
        "    print(\"File is already present in your disk. You do not have to prepare it again.\")\n",
        "else:\n",
        "    startTime = datetime.now()\n",
        "    print(\"Preparing Test csv file for {} rows\".format(len(sample_test_ratings)))\n",
        "    with open(\"Test_Regression.csv\", mode = \"w\") as data:\n",
        "        count = 0\n",
        "        for user, movie, rating in zip(sample_test_users, sample_test_movies, sample_test_ratings):\n",
        "            row = list()\n",
        "            row.append(user)  \n",
        "            row.append(movie) \n",
        "            row.append(train_sample_sparse.sum()/train_sample_sparse.count_nonzero()) \n",
        "\n",
        "#Ratings given to \"movie\" by top 5 similar users with \"user\"\n",
        "            try:\n",
        "                similar_users = cosine_similarity(train_sample_sparse[user], train_sample_sparse).ravel()\n",
        "                similar_users_indices = np.argsort(-similar_users)[1:]\n",
        "                similar_users_ratings = train_sample_sparse[similar_users_indices, movie].toarray().ravel()\n",
        "                top_similar_user_ratings = list(similar_users_ratings[similar_users_ratings != 0][:5])\n",
        "                top_similar_user_ratings.extend([globalAvgMovies[movie]]*(5-len(top_similar_user_ratings)))\n",
        "                row.extend(top_similar_user_ratings)\n",
        "            #Cold Start Problem, for a new user or a new movie  \n",
        "            except(IndexError, KeyError):\n",
        "                global_average_train_rating = [train_sample_sparse.sum()/train_sample_sparse.count_nonzero()]*5\n",
        "                row.extend(global_average_train_rating)\n",
        "            except:\n",
        "                raise\n",
        "                \n",
        " #Ratings given by \"user\" to top 5 similar movies with \"movie\"\n",
        "            try:\n",
        "                similar_movies = cosine_similarity(train_sample_sparse[:,movie].T, train_sample_sparse.T).ravel()\n",
        "                similar_movies_indices = np.argsort(-similar_movies)[1:]\n",
        "                similar_movies_ratings = train_sample_sparse[user, similar_movies_indices].toarray().ravel()\n",
        "                top_similar_movie_ratings = list(similar_movies_ratings[similar_movies_ratings != 0][:5])\n",
        "                top_similar_movie_ratings.extend([globalAvgUsers[user]]*(5-len(top_similar_movie_ratings)))\n",
        "                row.extend(top_similar_movie_ratings)\n",
        "            #Cold Start Problem, for a new user or a new movie\n",
        "            except(IndexError, KeyError):\n",
        "                global_average_train_rating = [train_sample_sparse.sum()/train_sample_sparse.count_nonzero()]*5\n",
        "                row.extend(global_average_train_rating)\n",
        "            except:\n",
        "                raise\n",
        "                \n",
        " #Appending \"user\" average, \"movie\" average & rating of \"user\"\"movie\"\n",
        "            try:        \n",
        "                row.append(globalAvgUsers[user])\n",
        "            except (KeyError):\n",
        "                global_average_train_rating = train_sample_sparse.sum()/train_sample_sparse.count_nonzero()\n",
        "                row.append(global_average_train_rating)\n",
        "            except:\n",
        "                raise\n",
        "                \n",
        "            try:\n",
        "                row.append(globalAvgMovies[movie])\n",
        "            except(KeyError):\n",
        "                global_average_train_rating = train_sample_sparse.sum()/train_sample_sparse.count_nonzero()\n",
        "                row.append(global_average_train_rating)\n",
        "            except:\n",
        "                raise\n",
        "                \n",
        "            row.append(rating)\n",
        "            \n",
        "#Converting rows and appending them as comma separated values to csv file\n",
        "            data.write(\",\".join(map(str, row)))\n",
        "            data.write(\"\\n\")\n",
        "    \n",
        "            count += 1\n",
        "            if count % 100 == 0:\n",
        "                print(\"Done for {}. Time elapsed: {}\".format(count, (datetime.now() - startTime)))\n",
        "                \n",
        "    print(\"Total Time for {} rows = {}\".format(len(sample_test_ratings), (datetime.now() - startTime)))"
      ],
      "execution_count": null,
      "outputs": [
        {
          "output_type": "stream",
          "text": [
            "Preparing Test csv file for 1575 rows\n",
            "Done for 100. Time elapsed: 0:00:22.727795\n",
            "Done for 200. Time elapsed: 0:00:45.368080\n",
            "Done for 300. Time elapsed: 0:01:07.814665\n",
            "Done for 400. Time elapsed: 0:01:30.616506\n",
            "Done for 500. Time elapsed: 0:01:52.807882\n",
            "Done for 600. Time elapsed: 0:02:15.899467\n",
            "Done for 700. Time elapsed: 0:02:39.216785\n",
            "Done for 800. Time elapsed: 0:03:02.365290\n",
            "Done for 900. Time elapsed: 0:03:24.897105\n",
            "Done for 1000. Time elapsed: 0:03:47.927290\n",
            "Done for 1100. Time elapsed: 0:04:11.007633\n",
            "Done for 1200. Time elapsed: 0:04:34.239245\n",
            "Done for 1300. Time elapsed: 0:04:57.386191\n",
            "Done for 1400. Time elapsed: 0:05:20.400621\n",
            "Done for 1500. Time elapsed: 0:05:43.264819\n",
            "Total Time for 1575 rows = 0:06:00.443123\n"
          ],
          "name": "stdout"
        }
      ]
    },
    {
      "cell_type": "code",
      "metadata": {
        "id": "zCd5cpL30z9c",
        "outputId": "9b719f89-24a2-4048-d100-b34bbb91899b",
        "colab": {
          "base_uri": "https://localhost:8080/",
          "height": 224
        }
      },
      "source": [
        "Test_Reg = pd.read_csv(\"Test_Regression.csv\", names = [\"User_ID\", \"Movie_ID\", \"Global_Average\", \"SUR1\", \"SUR2\", \"SUR3\", \"SUR4\", \"SUR5\", \"SMR1\", \"SMR2\", \"SMR3\", \"SMR4\", \"SMR5\", \"User_Average\", \"Movie_Average\", \"Rating\"])\n",
        "Test_Reg.head()"
      ],
      "execution_count": null,
      "outputs": [
        {
          "output_type": "execute_result",
          "data": {
            "text/html": [
              "<div>\n",
              "<style scoped>\n",
              "    .dataframe tbody tr th:only-of-type {\n",
              "        vertical-align: middle;\n",
              "    }\n",
              "\n",
              "    .dataframe tbody tr th {\n",
              "        vertical-align: top;\n",
              "    }\n",
              "\n",
              "    .dataframe thead th {\n",
              "        text-align: right;\n",
              "    }\n",
              "</style>\n",
              "<table border=\"1\" class=\"dataframe\">\n",
              "  <thead>\n",
              "    <tr style=\"text-align: right;\">\n",
              "      <th></th>\n",
              "      <th>User_ID</th>\n",
              "      <th>Movie_ID</th>\n",
              "      <th>Global_Average</th>\n",
              "      <th>SUR1</th>\n",
              "      <th>SUR2</th>\n",
              "      <th>SUR3</th>\n",
              "      <th>SUR4</th>\n",
              "      <th>SUR5</th>\n",
              "      <th>SMR1</th>\n",
              "      <th>SMR2</th>\n",
              "      <th>SMR3</th>\n",
              "      <th>SMR4</th>\n",
              "      <th>SMR5</th>\n",
              "      <th>User_Average</th>\n",
              "      <th>Movie_Average</th>\n",
              "      <th>Rating</th>\n",
              "    </tr>\n",
              "  </thead>\n",
              "  <tbody>\n",
              "    <tr>\n",
              "      <th>0</th>\n",
              "      <td>1711346</td>\n",
              "      <td>4509</td>\n",
              "      <td>3.609641</td>\n",
              "      <td>3.609641</td>\n",
              "      <td>3.609641</td>\n",
              "      <td>3.609641</td>\n",
              "      <td>3.609641</td>\n",
              "      <td>3.609641</td>\n",
              "      <td>3.609641</td>\n",
              "      <td>3.609641</td>\n",
              "      <td>3.609641</td>\n",
              "      <td>3.609641</td>\n",
              "      <td>3.609641</td>\n",
              "      <td>3.609641</td>\n",
              "      <td>3.609641</td>\n",
              "      <td>5.0</td>\n",
              "    </tr>\n",
              "    <tr>\n",
              "      <th>1</th>\n",
              "      <td>1858305</td>\n",
              "      <td>4509</td>\n",
              "      <td>3.609641</td>\n",
              "      <td>3.609641</td>\n",
              "      <td>3.609641</td>\n",
              "      <td>3.609641</td>\n",
              "      <td>3.609641</td>\n",
              "      <td>3.609641</td>\n",
              "      <td>3.609641</td>\n",
              "      <td>3.609641</td>\n",
              "      <td>3.609641</td>\n",
              "      <td>3.609641</td>\n",
              "      <td>3.609641</td>\n",
              "      <td>3.609641</td>\n",
              "      <td>3.609641</td>\n",
              "      <td>4.0</td>\n",
              "    </tr>\n",
              "    <tr>\n",
              "      <th>2</th>\n",
              "      <td>1970677</td>\n",
              "      <td>4509</td>\n",
              "      <td>3.609641</td>\n",
              "      <td>3.609641</td>\n",
              "      <td>3.609641</td>\n",
              "      <td>3.609641</td>\n",
              "      <td>3.609641</td>\n",
              "      <td>3.609641</td>\n",
              "      <td>3.609641</td>\n",
              "      <td>3.609641</td>\n",
              "      <td>3.609641</td>\n",
              "      <td>3.609641</td>\n",
              "      <td>3.609641</td>\n",
              "      <td>3.609641</td>\n",
              "      <td>3.609641</td>\n",
              "      <td>5.0</td>\n",
              "    </tr>\n",
              "    <tr>\n",
              "      <th>3</th>\n",
              "      <td>2231476</td>\n",
              "      <td>4556</td>\n",
              "      <td>3.609641</td>\n",
              "      <td>3.609641</td>\n",
              "      <td>3.609641</td>\n",
              "      <td>3.609641</td>\n",
              "      <td>3.609641</td>\n",
              "      <td>3.609641</td>\n",
              "      <td>3.609641</td>\n",
              "      <td>3.609641</td>\n",
              "      <td>3.609641</td>\n",
              "      <td>3.609641</td>\n",
              "      <td>3.609641</td>\n",
              "      <td>3.609641</td>\n",
              "      <td>3.609641</td>\n",
              "      <td>5.0</td>\n",
              "    </tr>\n",
              "    <tr>\n",
              "      <th>4</th>\n",
              "      <td>13210</td>\n",
              "      <td>4633</td>\n",
              "      <td>3.609641</td>\n",
              "      <td>3.609641</td>\n",
              "      <td>3.609641</td>\n",
              "      <td>3.609641</td>\n",
              "      <td>3.609641</td>\n",
              "      <td>3.609641</td>\n",
              "      <td>3.609641</td>\n",
              "      <td>3.609641</td>\n",
              "      <td>3.609641</td>\n",
              "      <td>3.609641</td>\n",
              "      <td>3.609641</td>\n",
              "      <td>3.609641</td>\n",
              "      <td>3.609641</td>\n",
              "      <td>5.0</td>\n",
              "    </tr>\n",
              "  </tbody>\n",
              "</table>\n",
              "</div>"
            ],
            "text/plain": [
              "   User_ID  Movie_ID  Global_Average  ...  User_Average  Movie_Average  Rating\n",
              "0  1711346      4509        3.609641  ...      3.609641       3.609641     5.0\n",
              "1  1858305      4509        3.609641  ...      3.609641       3.609641     4.0\n",
              "2  1970677      4509        3.609641  ...      3.609641       3.609641     5.0\n",
              "3  2231476      4556        3.609641  ...      3.609641       3.609641     5.0\n",
              "4    13210      4633        3.609641  ...      3.609641       3.609641     5.0\n",
              "\n",
              "[5 rows x 16 columns]"
            ]
          },
          "metadata": {
            "tags": []
          },
          "execution_count": 140
        }
      ]
    },
    {
      "cell_type": "code",
      "metadata": {
        "id": "XBVnZnOS0zdn",
        "outputId": "6d6c644d-5c2d-41c2-de55-62ce79276bab",
        "colab": {
          "base_uri": "https://localhost:8080/",
          "height": 35
        }
      },
      "source": [
        "print(\"Number of nan Values = \"+str(Test_Reg.isnull().sum().sum()))"
      ],
      "execution_count": null,
      "outputs": [
        {
          "output_type": "stream",
          "text": [
            "Number of nan Values = 0\n"
          ],
          "name": "stdout"
        }
      ]
    },
    {
      "cell_type": "code",
      "metadata": {
        "id": "tphUZcLG0y6Q",
        "outputId": "80268080-2d60-4532-acb5-4c939b8e757c",
        "colab": {
          "base_uri": "https://localhost:8080/",
          "height": 35
        }
      },
      "source": [
        "print(\"Shape of Test DataFrame = {}\".format(Test_Reg.shape))"
      ],
      "execution_count": null,
      "outputs": [
        {
          "output_type": "stream",
          "text": [
            "Shape of Test DataFrame = (1575, 16)\n"
          ],
          "name": "stdout"
        }
      ]
    },
    {
      "cell_type": "markdown",
      "metadata": {
        "id": "rFohRae1QBEJ"
      },
      "source": [
        "**Transforming Data for Surprise Models**"
      ]
    },
    {
      "cell_type": "markdown",
      "metadata": {
        "id": "DAPE0lkUQEIy"
      },
      "source": [
        "**Transforming Train Data**"
      ]
    },
    {
      "cell_type": "code",
      "metadata": {
        "id": "aenxev8L0yZw",
        "outputId": "351c2a50-5f39-44e1-8a67-e25df0b34b97",
        "colab": {
          "base_uri": "https://localhost:8080/",
          "height": 204
        }
      },
      "source": [
        "Train_Reg[['User_ID', 'Movie_ID', 'Rating']].head(5)"
      ],
      "execution_count": null,
      "outputs": [
        {
          "output_type": "execute_result",
          "data": {
            "text/html": [
              "<div>\n",
              "<style scoped>\n",
              "    .dataframe tbody tr th:only-of-type {\n",
              "        vertical-align: middle;\n",
              "    }\n",
              "\n",
              "    .dataframe tbody tr th {\n",
              "        vertical-align: top;\n",
              "    }\n",
              "\n",
              "    .dataframe thead th {\n",
              "        text-align: right;\n",
              "    }\n",
              "</style>\n",
              "<table border=\"1\" class=\"dataframe\">\n",
              "  <thead>\n",
              "    <tr style=\"text-align: right;\">\n",
              "      <th></th>\n",
              "      <th>User_ID</th>\n",
              "      <th>Movie_ID</th>\n",
              "      <th>Rating</th>\n",
              "    </tr>\n",
              "  </thead>\n",
              "  <tbody>\n",
              "    <tr>\n",
              "      <th>0</th>\n",
              "      <td>2630</td>\n",
              "      <td>4546</td>\n",
              "      <td>4.0</td>\n",
              "    </tr>\n",
              "    <tr>\n",
              "      <th>1</th>\n",
              "      <td>14827</td>\n",
              "      <td>4546</td>\n",
              "      <td>4.0</td>\n",
              "    </tr>\n",
              "    <tr>\n",
              "      <th>2</th>\n",
              "      <td>18843</td>\n",
              "      <td>4546</td>\n",
              "      <td>4.0</td>\n",
              "    </tr>\n",
              "    <tr>\n",
              "      <th>3</th>\n",
              "      <td>28172</td>\n",
              "      <td>4546</td>\n",
              "      <td>3.0</td>\n",
              "    </tr>\n",
              "    <tr>\n",
              "      <th>4</th>\n",
              "      <td>31375</td>\n",
              "      <td>4546</td>\n",
              "      <td>1.0</td>\n",
              "    </tr>\n",
              "  </tbody>\n",
              "</table>\n",
              "</div>"
            ],
            "text/plain": [
              "   User_ID  Movie_ID  Rating\n",
              "0     2630      4546     4.0\n",
              "1    14827      4546     4.0\n",
              "2    18843      4546     4.0\n",
              "3    28172      4546     3.0\n",
              "4    31375      4546     1.0"
            ]
          },
          "metadata": {
            "tags": []
          },
          "execution_count": 143
        }
      ]
    },
    {
      "cell_type": "code",
      "metadata": {
        "id": "jQfa34gO0x3q"
      },
      "source": [
        "reader = Reader(rating_scale=(1, 5))\n",
        "\n",
        "data = Dataset.load_from_df(Train_Reg[['User_ID', 'Movie_ID', 'Rating']], reader)\n",
        "\n",
        "trainset = data.build_full_trainset()"
      ],
      "execution_count": null,
      "outputs": []
    },
    {
      "cell_type": "markdown",
      "metadata": {
        "id": "YstpVYH5QNsm"
      },
      "source": [
        "**Transforming Test Data**"
      ]
    },
    {
      "cell_type": "code",
      "metadata": {
        "id": "nUHkzSx90xYl"
      },
      "source": [
        "testset = list(zip(Test_Reg[\"User_ID\"].values, Test_Reg[\"Movie_ID\"].values, Test_Reg[\"Rating\"].values))"
      ],
      "execution_count": null,
      "outputs": []
    },
    {
      "cell_type": "code",
      "metadata": {
        "id": "ntgTUoqn0w3E",
        "outputId": "3f25f4c0-2082-4626-e062-f340ff037bfa",
        "colab": {
          "base_uri": "https://localhost:8080/",
          "height": 107
        }
      },
      "source": [
        "testset[:5]"
      ],
      "execution_count": null,
      "outputs": [
        {
          "output_type": "execute_result",
          "data": {
            "text/plain": [
              "[(1711346, 4509, 5.0),\n",
              " (1858305, 4509, 4.0),\n",
              " (1970677, 4509, 5.0),\n",
              " (2231476, 4556, 5.0),\n",
              " (13210, 4633, 5.0)]"
            ]
          },
          "metadata": {
            "tags": []
          },
          "execution_count": 146
        }
      ]
    },
    {
      "cell_type": "markdown",
      "metadata": {
        "id": "5tkaPKkQQVNd"
      },
      "source": [
        "**Applying Machine Learning Models**"
      ]
    },
    {
      "cell_type": "code",
      "metadata": {
        "id": "m1cqDHqY3Es8"
      },
      "source": [
        "error_table = pd.DataFrame(columns = [\"Model\", \"Train RMSE\", \"Train MAPE\", \"Test RMSE\", \"Test MAPE\"])\n",
        "model_train_evaluation = dict()\n",
        "model_test_evaluation = dict()"
      ],
      "execution_count": null,
      "outputs": []
    },
    {
      "cell_type": "code",
      "metadata": {
        "id": "qh-RWSnA3H_q"
      },
      "source": [
        "def make_table(model_name, rmse_train, mape_train, rmse_test, mape_test):\n",
        "    global error_table\n",
        "    error_table = error_table.append(pd.DataFrame([[model_name, rmse_train, mape_train, rmse_test, mape_test]], columns = [\"Model\", \"Train RMSE\", \"Train MAPE\", \"Test RMSE\", \"Test MAPE\"]))\n",
        "    error_table.reset_index(drop = True, inplace = True)"
      ],
      "execution_count": null,
      "outputs": []
    },
    {
      "cell_type": "markdown",
      "metadata": {
        "id": "faQrpvFw2cC3"
      },
      "source": [
        "**Utility Functions for Surprise Models**"
      ]
    },
    {
      "cell_type": "code",
      "metadata": {
        "id": "GcAiOjRI2dzh"
      },
      "source": [
        "def get_ratings(predictions):\n",
        "    actual = np.array([pred.r_ui for pred in predictions])\n",
        "    predicted = np.array([pred.est for pred in predictions])\n",
        "    return actual, predicted"
      ],
      "execution_count": null,
      "outputs": []
    },
    {
      "cell_type": "code",
      "metadata": {
        "id": "iNAt3eqh2lls"
      },
      "source": [
        "def get_error(predictions):\n",
        "    actual, predicted = get_ratings(predictions)\n",
        "    rmse = np.sqrt(mean_squared_error(actual, predicted)) \n",
        "    mape = np.mean(abs((actual - predicted)/actual))*100\n",
        "    return rmse, mape"
      ],
      "execution_count": null,
      "outputs": []
    },
    {
      "cell_type": "code",
      "metadata": {
        "id": "O0jnbsJc2o-f"
      },
      "source": [
        "my_seed = 15\n",
        "random.seed(my_seed)\n",
        "np.random.seed(my_seed)\n",
        "\n",
        "def run_surprise(algo, trainset, testset, model_name):\n",
        "    startTime = datetime.now()\n",
        "    \n",
        "    train = dict()\n",
        "    test = dict()\n",
        "    \n",
        "    algo.fit(trainset)\n",
        "    \n",
        "#Evaluating Train Data\n",
        "    print(\"-\"*50)\n",
        "    print(\"TRAIN DATA\")\n",
        "    train_pred = algo.test(trainset.build_testset())\n",
        "    train_actual, train_predicted = get_ratings(train_pred)\n",
        "    train_rmse, train_mape = get_error(train_pred)\n",
        "    print(\"RMSE = {}\".format(train_rmse))\n",
        "    print(\"MAPE = {}\".format(train_mape))\n",
        "    print(\"-\"*50)\n",
        "    train = {\"RMSE\": train_rmse, \"MAPE\": train_mape, \"Prediction\": train_predicted}\n",
        "    \n",
        "#Evaluating Test Data\n",
        "    print(\"TEST DATA\")\n",
        "    test_pred = algo.test(testset)\n",
        "    test_actual, test_predicted = get_ratings(test_pred)\n",
        "    test_rmse, test_mape = get_error(test_pred)\n",
        "    print(\"RMSE = {}\".format(test_rmse))\n",
        "    print(\"MAPE = {}\".format(test_mape))\n",
        "    print(\"-\"*50)\n",
        "    test = {\"RMSE\": test_rmse, \"MAPE\": test_mape, \"Prediction\": test_predicted}\n",
        "    \n",
        "    print(\"Time Taken = \"+str(datetime.now() - startTime))\n",
        "    \n",
        "    make_table(model_name, train_rmse, train_mape, test_rmse, test_mape)\n",
        "    \n",
        "    return train, test"
      ],
      "execution_count": null,
      "outputs": []
    },
    {
      "cell_type": "markdown",
      "metadata": {
        "id": "UHfhaYV8Q-S2"
      },
      "source": [
        "**Matrix Factorization SVD**"
      ]
    },
    {
      "cell_type": "markdown",
      "metadata": {
        "id": "_6GXIkKSRC0E"
      },
      "source": [
        "**Cross Validation**"
      ]
    },
    {
      "cell_type": "code",
      "metadata": {
        "id": "eeJ75m_V0wHr",
        "outputId": "5eba8dfb-7f06-4079-ff5c-c3db2038903a",
        "colab": {
          "base_uri": "https://localhost:8080/",
          "height": 53
        }
      },
      "source": [
        "param_grid  = {'n_factors': [5,7,10,15,20,25,35,50,70,90]}   \n",
        "\n",
        "gs = GridSearchCV(SVD, param_grid, measures=['rmse', 'mae'], cv=3)\n",
        "\n",
        "gs.fit(data)\n",
        "\n",
        "# best RMSE score\n",
        "print(gs.best_score['rmse'])\n",
        "\n",
        "# combination of parameters that gave the best RMSE score\n",
        "print(gs.best_params['rmse'])"
      ],
      "execution_count": null,
      "outputs": [
        {
          "output_type": "stream",
          "text": [
            "0.9537528111892492\n",
            "{'n_factors': 10}\n"
          ],
          "name": "stdout"
        }
      ]
    },
    {
      "cell_type": "markdown",
      "metadata": {
        "id": "N5pwMnt6RLkl"
      },
      "source": [
        "**Applying SVD with best parameters**"
      ]
    },
    {
      "cell_type": "code",
      "metadata": {
        "id": "rGIOV1Oa0vdd",
        "outputId": "a76c9c34-614f-4151-8edb-0aaf4750cedf",
        "colab": {
          "base_uri": "https://localhost:8080/",
          "height": 557
        }
      },
      "source": [
        "algo = SVD(n_factors = gs.best_params['rmse']['n_factors'], biased=True, verbose=True)\n",
        "\n",
        "train_result, test_result = run_surprise(algo, trainset, testset, \"SVD\")\n",
        "\n",
        "model_train_evaluation[\"SVD\"] = train_result\n",
        "model_test_evaluation[\"SVD\"] = test_result"
      ],
      "execution_count": null,
      "outputs": [
        {
          "output_type": "stream",
          "text": [
            "Processing epoch 0\n",
            "Processing epoch 1\n",
            "Processing epoch 2\n",
            "Processing epoch 3\n",
            "Processing epoch 4\n",
            "Processing epoch 5\n",
            "Processing epoch 6\n",
            "Processing epoch 7\n",
            "Processing epoch 8\n",
            "Processing epoch 9\n",
            "Processing epoch 10\n",
            "Processing epoch 11\n",
            "Processing epoch 12\n",
            "Processing epoch 13\n",
            "Processing epoch 14\n",
            "Processing epoch 15\n",
            "Processing epoch 16\n",
            "Processing epoch 17\n",
            "Processing epoch 18\n",
            "Processing epoch 19\n",
            "--------------------------------------------------\n",
            "TRAIN DATA\n",
            "RMSE = 0.8516243843145302\n",
            "MAPE = 26.111603596832445\n",
            "--------------------------------------------------\n",
            "TEST DATA\n",
            "RMSE = 1.0252973858914736\n",
            "MAPE = 29.323828141846164\n",
            "--------------------------------------------------\n",
            "Time Taken = 0:00:00.748935\n"
          ],
          "name": "stdout"
        }
      ]
    },
    {
      "cell_type": "markdown",
      "metadata": {
        "id": "ryliVrbOROly"
      },
      "source": [
        "**Matrix Factorization SVDpp with implicit feedback**"
      ]
    },
    {
      "cell_type": "markdown",
      "metadata": {
        "id": "DEkKLmzbRT18"
      },
      "source": [
        "**Cross Validation**"
      ]
    },
    {
      "cell_type": "code",
      "metadata": {
        "id": "xFKi68KH0u8j",
        "outputId": "b1ed3827-14c9-4f4f-ae1a-aa059a79805f",
        "colab": {
          "base_uri": "https://localhost:8080/",
          "height": 53
        }
      },
      "source": [
        "param_grid = {'n_factors': [10, 30, 50, 80, 100], 'lr_all': [0.002, 0.006, 0.018, 0.054, 0.10]}\n",
        "\n",
        "gs = GridSearchCV(SVDpp, param_grid, measures=['rmse', 'mae'], cv=3)\n",
        "\n",
        "gs.fit(data)\n",
        "\n",
        "# best RMSE score\n",
        "print(gs.best_score['rmse'])\n",
        "\n",
        "# combination of parameters that gave the best RMSE score\n",
        "print(gs.best_params['rmse'])"
      ],
      "execution_count": null,
      "outputs": [
        {
          "output_type": "stream",
          "text": [
            "0.9472324682509049\n",
            "{'n_factors': 10, 'lr_all': 0.006}\n"
          ],
          "name": "stdout"
        }
      ]
    },
    {
      "cell_type": "markdown",
      "metadata": {
        "id": "F881WEGERYMl"
      },
      "source": [
        "**Applying SVDpp with best parameters**"
      ]
    },
    {
      "cell_type": "code",
      "metadata": {
        "id": "drHgjKA40ucA",
        "outputId": "67575732-a2ee-4bdd-f956-4635aae5bad2",
        "colab": {
          "base_uri": "https://localhost:8080/",
          "height": 557
        }
      },
      "source": [
        "algo = SVDpp(n_factors = gs.best_params['rmse']['n_factors'], lr_all = gs.best_params['rmse'][\"lr_all\"], verbose=True)\n",
        "\n",
        "train_result, test_result = run_surprise(algo, trainset, testset, \"SVDpp\")\n",
        "\n",
        "model_train_evaluation[\"SVDpp\"] = train_result\n",
        "model_test_evaluation[\"SVDpp\"] = test_result"
      ],
      "execution_count": null,
      "outputs": [
        {
          "output_type": "stream",
          "text": [
            " processing epoch 0\n",
            " processing epoch 1\n",
            " processing epoch 2\n",
            " processing epoch 3\n",
            " processing epoch 4\n",
            " processing epoch 5\n",
            " processing epoch 6\n",
            " processing epoch 7\n",
            " processing epoch 8\n",
            " processing epoch 9\n",
            " processing epoch 10\n",
            " processing epoch 11\n",
            " processing epoch 12\n",
            " processing epoch 13\n",
            " processing epoch 14\n",
            " processing epoch 15\n",
            " processing epoch 16\n",
            " processing epoch 17\n",
            " processing epoch 18\n",
            " processing epoch 19\n",
            "--------------------------------------------------\n",
            "TRAIN DATA\n",
            "RMSE = 0.771695465956741\n",
            "MAPE = 23.214208659992885\n",
            "--------------------------------------------------\n",
            "TEST DATA\n",
            "RMSE = 1.0254661331307358\n",
            "MAPE = 29.31733665251281\n",
            "--------------------------------------------------\n",
            "Time Taken = 0:00:06.119709\n"
          ],
          "name": "stdout"
        }
      ]
    }
  ]
}